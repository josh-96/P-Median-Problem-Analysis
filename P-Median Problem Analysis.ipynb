{
  "cells": [
    {
      "cell_type": "markdown",
      "id": "e477ee4c-c86e-468c-95ad-68dca285cbcb",
      "metadata": {
        "id": "e477ee4c-c86e-468c-95ad-68dca285cbcb",
        "tags": []
      },
      "source": [
        "**Cost Optimization for JDID**\n",
        "\n",
        "Date: *03/05/2023* <br>\n",
        "Version: *8th* <br>\n",
        "\n",
        "**Investigator(s)**\n",
        "- Josue Velasco\n",
        "- Arina Petrova\n",
        "- Wedad ElZayady\n",
        "- Ardelia Luthfiyah\n",
        "\n",
        "\n"
      ]
    },
    {
      "cell_type": "markdown",
      "id": "7523e769-6ad7-4f64-a52d-13516b2c4ada",
      "metadata": {
        "id": "7523e769-6ad7-4f64-a52d-13516b2c4ada",
        "tags": []
      },
      "source": [
        "# 1 - Abstract\n",
        "\n",
        "The report discusses a logistics problem faced by JD.ID. and evaluates three scenarios to minimize transportation costs while meeting demand and respecting capacity constraints.\n",
        "\n",
        "In the first scenario, the company needs to find the optimal flow of the product from two main warehouses to two local warehouses and three distribution centers. In the second scenario, the company needs to decide whether to build a third local warehouse in West Java. In the third scenario, the company analyzes the flow of two products (groceries and electronics) and decides whether adding a third local warehouse would be more efficient.\n",
        "\n",
        "During the problem analysis the following findings were derived: in scenario 1 the flow capacity from local warehouses to distribution centers should be increased, as well as the capacity of some of the main warehouses, if possible. In scenario 2, a new local warehouse is required to meet increased demand in the West, but it is unnecessary if demand remains constant. Because transportation costs from main warehouses to local warehouses are lower in scenario 3, Local Warehouse 3 should be opened as well. In the future research it is recommended to take into account the size of each product's SKUs as well as the sizes of the warehouses.\n",
        "\n",
        "Overall, the study provides insights into how mathematical models and optimization tools can be used to address real-life problems in logistics and supply chain management.\n",
        "\n",
        "\n",
        "\n"
      ]
    },
    {
      "cell_type": "markdown",
      "id": "25adff34-8bf1-4a9b-8946-98001bfec91f",
      "metadata": {
        "id": "25adff34-8bf1-4a9b-8946-98001bfec91f",
        "tags": []
      },
      "source": [
        "# 2 - Acronyms and definitions\n",
        "\n",
        "- *JD.com: Chinese retail and e-commerce company.*\n",
        "- *JD.ID: Chinese retail and e-commerce company when expanded into the Indonesian market.*\n",
        "- *Retail: Companies who purchase products in large quantities from manufacturers or wholesalers, and then sell them in smaller quantities to individual customers through various channels such as physical stores, online marketplaces or mobile applications.*\n",
        "- *Java Island: One of the islands in Indonesia that is divided into six main provinces; Banten, DKI Jakarta, West Java, Central Java, DIY Yogyakarta, and East Java.*\n",
        "- *Main Warehouse: It is a primary storage. It is responsible for receiving, storing from factories, and organizing inventory, picking and packing orders, and coordinating deliveries to local warehouses and distribution centers.*\n",
        "- *Groceries: Food and household items that are typically purchased by consumers on a regular basis for their day-to-day needs.*\n",
        "- *Electronics:A wide range of products such as televisions, smartphones, cameras, etc.*\n",
        "- *Local Warehouse: Intermediate storage warehouse which is strategically located in areas where there is a high demand for products and near the distribution center to quickly fulfill customers orders and improve its overall delivery efficiency.*\n",
        "- *Distribution Center: Is the last resort in the product flow from the main and local warehouses to the customers.*\n",
        "- *Storage Capacity: Maximum amount of products that can be stored in a given storage facility.*\n",
        "- *Transportation Cost: the expenses associated with moving products or materials from one location to another.*\n",
        "- *Fixed costs: Represents rent and other costs associated with maintaining the warehouses on a long-term basis.*\n",
        "- *Flow capacity: Maximum amount of product that can be transported from one facility to another.*\n",
        "\n"
      ]
    },
    {
      "cell_type": "markdown",
      "id": "815c628c-6de1-4501-8ff4-2cd99e441b32",
      "metadata": {
        "id": "815c628c-6de1-4501-8ff4-2cd99e441b32",
        "tags": []
      },
      "source": [
        "# 3 - Problem statement\n",
        "JD.com, the largest retailer in China, expanded into the Indonesian market as JD.ID. JD.ID is currently focusing on the Java Island market and operates 2 main warehouses in DKI Jakarta, which are allowed to transport goods to local warehouses and distribution centers. The main warehouse has no specific coverage area, which means they can cover all of Java Island. In addition, JD.ID has two local warehouses in Central Java and East Java to cover faster delivery in specific areas, which receive their supplies from the main warehouses. The first local warehouse will cover only Center Java, and the other local warehouse will cover only East Java. The items in the local warehouse can only be supplied from the main warehouse. JD.ID also has 3 distribution centers located in West Java, Central Java, and East Java. They receive goods from both main and local warehouses.\n",
        "The logistics department is trying to determine how to minimize the total transportation cost of delivering the products while meeting the demand at each customer location and respecting the capacity constraints of the transportation network and whether opening a third local warehouse in the West region, due to increased demand, would  be efficient."
      ]
    },
    {
      "cell_type": "markdown",
      "id": "a3486283-a4bb-400a-91e9-1526a357a284",
      "metadata": {
        "id": "a3486283-a4bb-400a-91e9-1526a357a284",
        "tags": []
      },
      "source": [
        "# 4 - System"
      ]
    },
    {
      "cell_type": "markdown",
      "id": "dejb6A4WHe3s",
      "metadata": {
        "id": "dejb6A4WHe3s"
      },
      "source": [
        "## 4.1 - Agents/DMs\n",
        "\n",
        "| DMs | Attributes/Characterize) | Objective |\n",
        "| --- | --- | --- |\n",
        "| Logistic planning manager | Strong organizational skills, analytical thinking, attention to details, communication skills, problem-solving skills, strategic thinking | Minimize and optimize costs flow. Decide whether to open another local  warehouse or not |"
      ]
    },
    {
      "cell_type": "markdown",
      "id": "XwrtUafiHbcF",
      "metadata": {
        "id": "XwrtUafiHbcF"
      },
      "source": [
        "## 4.2 - Entities\n",
        "\n",
        "1. Scenario 1\n",
        "\n",
        "  Product is supplied from Main Warehouse 1 and Main Warehouse 2. There are also two local warehouses in Central Java and East Java. The product can be supplied to the local warehouses only from the main warehouses. The company also operates three distribution centers located in West Java, Central Java, and East Java. Distribution centers may receive products from main and local warehouses.\n",
        "\n",
        "|Entity | Notation |Attributes/ Characteristics |\n",
        "| --- | --- | --- |\n",
        "Products:\n",
        "| Groceries | P1 | Transportation cost|\n",
        "Warehouses:\n",
        "|Main warehouse 1 | MW1 | Storage capacity, Fixed and Variable costs|\n",
        "|Main warehouse 2 | MW2 | Storage capacity, Fixed and Variable costs|\n",
        "|Local warehouse 1 | LW1| Storage capacity, Fixed and Variable costs|\n",
        "|Local warehouse 2 | LW2| Storage capacity, Fixed and Variable costs|\n",
        "Distribution centers:\n",
        "|Distribution center 1 |D1|Demand|\n",
        "|Distribution center 2|D2|Demand|\n",
        "|Distribution center 3|D3|Demand|\n",
        "\n",
        "2. Scenario 2\n",
        "\n",
        "  Product is supplied from Main Warehouse 1 and Main Warehouse 2. Now the company decides whether to build a third local warehouse in West Java in addition to two local warehouses in Central Java and East Java. The product can be supplied to the local warehouses only from the main warehouses. The company also operates three distribution centers located in West Java, Central Java, and East Java. Distribution centers may receive products from main and local warehouses.\n",
        "\n",
        "|Entity | Notation |Attributes/ Characteristics|\n",
        "| --- | --- | --- |\n",
        "Products:\n",
        "| Groceries | P1 | Transportation cost|\n",
        "Warehouses:\n",
        "|Main warehouse 1 |MW1| Storage capacity, Fixed and Variable costs|\n",
        "|Main warehouse 2 |MW2| Storage capacity, Fixed and Variable costs|\n",
        "|Local warehouse 1 |LW1| Storage capacity, Fixed and Variable costs|\n",
        "|Local warehouse 2 |LW2| Storage capacity, Fixed and Variable costs|\n",
        "|Local warehouse 3 |LW3| Storage capacity, Fixed and Variable costs|\n",
        "Distribution centers:\n",
        "|Distribution center 1|D1|Demand|\n",
        "|Distribution center 2|D2|Demand|\n",
        "|Distribution center 3|D3|Demand|\n",
        "\n",
        "3. Scenario 3\n",
        "\n",
        "  There are 2 types of product: groceries and electronics. Main Warehouses 1 and 2 store a mix of products, which are then transported to local warehouses and 3 distribution centers. There are 2 local warehouses in Central Java, East Java and the necessity of the warehouse in West Java is to be decided. The local warehouses can store a mix of products and can only accept products from the main warehouses. The three distribution centers are located in West Java, Central Java, and East Java. Distribution centers store the mix of products as well.\n",
        "\n",
        "|Entity | Notation |Attributes/ Characteristics|\n",
        "| --- | --- | --- |\n",
        "Products:\n",
        "| Groceries | P1 | Transportation cost|\n",
        "| Electronics | P2 | Transportation cost|\n",
        "Warehouses:\n",
        "|Main warehouse 1 |MW1| Storage capacity, Stores a mix of products, Fixed and Variable costs|\n",
        "|Main warehouse 2 |MW2| Storage capacity, Stores a mix of products, Fixed and Variable costs|\n",
        "|Local warehouse 1 |LW1| Storage capacity, Fixed and Variable costs|\n",
        "|Local warehouse 2 |LW2| Storage capacity, Fixed and Variable costs|\n",
        "|Local warehouse 3 |LW3| Storage capacity, Fixed and Variable costs|\n",
        "Distribution centers:\n",
        "|Distribution center 1|D1|Demand|\n",
        "|Distribution center 2|D2|Demand|\n",
        "|Distribution center 3|D3|Demand|"
      ]
    },
    {
      "attachments": {
        "image-2.png": {
          "image/png": "[encoded data removed]"
        },
        "image.png": {
          "image/png": "[encoded data removed]"
        }
      },
      "cell_type": "markdown",
      "id": "Xdatwusqz2BK",
      "metadata": {
        "id": "Xdatwusqz2BK"
      },
      "source": [
        "## 4.3 - Relationships among elements\n",
        "\n",
        "**Scenario 1**\n",
        "\n",
        "![image.png](attachment:image.png)\n",
        "\n",
        "\n",
        "**Scenario 2 & Scenario 3**\n",
        "\n",
        "![image-2.png](attachment:image-2.png)\n"
      ]
    },
    {
      "cell_type": "markdown",
      "id": "AWFO4YfCHh3G",
      "metadata": {
        "id": "AWFO4YfCHh3G"
      },
      "source": [
        "## 4.4 - Other constituents of the system\n",
        "1. External Disturbances:\n",
        "  - Traffic or natural disasters that may disrupt transportation and logistics\n",
        "  operations;\n",
        "  - Changes in the government policies and regulations related to\n",
        "  transportation cost such as increase gasoline and toll costs that may affect\n",
        "  costs and profitability;\n",
        "  - Changes in market trends and consumer behavior that may impact demand for\n",
        "  products.\n",
        "2. Internal Uncertainties:\n",
        "  - Fluctuations in production and supply chain operation that may lead to\n",
        "  stockouts or excess inventory;\n",
        "  - Changes in operating costs that may impact overall profitability;\n",
        "  - Equipment failure or breakdown that may cause delays or disruptions in the\n",
        "  supply chain.\n",
        "3. Externalities:\n",
        "  - Environmental impact of the transportation and logistics operations;\n",
        "  - Social and economic impacts of JD.ID’s operations on local communities and\n",
        "  stakeholders.\n",
        "4. Other constituents:\n",
        "  - Capacity constraints in the transportation network that may impact\n",
        "  transportation costs."
      ]
    },
    {
      "cell_type": "markdown",
      "id": "zr4bjLYtHlP-",
      "metadata": {
        "id": "zr4bjLYtHlP-"
      },
      "source": [
        "## 4.5 - Assumptions\n",
        "- The demand for products is known and constant over the planning horizon.\n",
        "- The transportation costs from the main warehouses to the local warehouses distribution centers and from the local warehouses to the distribution centers are fixed and do not vary with the quantity of products transported.\n",
        "- The transportation capacity of the network is fixed and does not change over the planning horizon.\n",
        "- The transportation network is reliable and there are no delays or disruptions in the transportation process.\n",
        "- Transportation costs differ with the region of the facility and the type of product.\n",
        "- The prices of the products are fixed and do not vary over the planning horizon."
      ]
    },
    {
      "cell_type": "markdown",
      "id": "741efcff-af2b-49a2-90da-499958a479b3",
      "metadata": {
        "id": "741efcff-af2b-49a2-90da-499958a479b3"
      },
      "source": [
        "# 5 - Data\n",
        "\n",
        "*The Sources : Coordination with the Company's Team*\n",
        "\n"
      ]
    },
    {
      "cell_type": "markdown",
      "id": "zzdKyOt45RoV",
      "metadata": {
        "id": "zzdKyOt45RoV"
      },
      "source": [
        "### Data Scenario 1"
      ]
    },
    {
      "cell_type": "code",
      "execution_count": null,
      "id": "YgcGKhXo5PrB",
      "metadata": {
        "id": "YgcGKhXo5PrB"
      },
      "outputs": [],
      "source": [
        "# Scenario 1\n",
        "\n",
        "main1 = {'MW1': 2500,'MW2': 5200} #mw1 = 2500\n",
        "local1 = {'LW1': 1940,'LW2': 1820}\n",
        "fixedcost1 = {'MW1': 7161,'MW2': 7157,'LW1': 1125,'LW2': 1626}\n",
        "demand1 = {'DC1':4000,'DC2':1580,'DC3':1400} #3750 open      4000 closed\n",
        "\n",
        "#reorganizing the arcs\n",
        "\n",
        "cost1 = {('MW1', 'LW1'):0.4,\n",
        "    ('MW1', 'LW2'):0.5,\n",
        "    ('MW2', 'LW1'):0.3,\n",
        "    ('MW2', 'LW2'):0.6,\n",
        "    ('MW1', 'DC1'):1.7,\n",
        "    ('MW1', 'DC2'):2.3,\n",
        "    ('MW1', 'DC3'):3.2,\n",
        "    ('MW2', 'DC1'):2.8,\n",
        "    ('MW2', 'DC2'):2.5,\n",
        "    ('MW2', 'DC3'):2.9,\n",
        "    ('LW1', 'DC1'):1000,\n",
        "    ('LW1', 'DC2'):0.6,\n",
        "    ('LW1', 'DC3'):1000,\n",
        "    ('LW2', 'DC1'):1000,\n",
        "    ('LW2', 'DC2'):1000,\n",
        "    ('LW2', 'DC3'):0.9}\n",
        "\n",
        "\n",
        "cap1 = {('MW1', 'LW1'):915, #215\n",
        "    ('MW1', 'LW2'):800, #188\n",
        "    ('MW2', 'LW1'):776, #285\n",
        "    ('MW2', 'LW2'):780, #280\n",
        "    ('MW1', 'DC1'):4000, #1051\n",
        "    ('MW1', 'DC2'):968, #581\n",
        "    ('MW1', 'DC3'):765, #465\n",
        "    ('MW2', 'DC1'):1874, #1099\n",
        "    ('MW2', 'DC2'):699, #499\n",
        "    ('MW2', 'DC3'):780, #467\n",
        "    ('LW1', 'DC1'):0,\n",
        "    ('LW1', 'DC2'):813, #500\n",
        "    ('LW1', 'DC3'):0,\n",
        "    ('LW2', 'DC1'):0,\n",
        "    ('LW2', 'DC2'):0,\n",
        "    ('LW2', 'DC3'):768} #468"
      ]
    },
    {
      "cell_type": "markdown",
      "id": "Dw591gdK9nFx",
      "metadata": {
        "id": "Dw591gdK9nFx"
      },
      "source": [
        "### Data Scenario 2"
      ]
    },
    {
      "cell_type": "code",
      "execution_count": null,
      "id": "UVk9lWC79ef8",
      "metadata": {
        "id": "UVk9lWC79ef8"
      },
      "outputs": [],
      "source": [
        "main2 = {'MW1': 7500,'MW2': 5200}\n",
        "local2 = {'LW1': 1740,'LW2': 1820, 'LW3':1900, 'LW4': 800, 'LW5': 800}\n",
        "fixedcost2 = {'MW1': 7161,'MW2': 8157,'LW1': 1125,'LW2': 1626, 'LW3': 3600, 'LW4': 800, 'LW5': 600}\n",
        "demand2 = {'DC1':3350,'DC2':1580,'DC3':1440}\n",
        "\n",
        "#reorganizing the arcs\n",
        "\n",
        "\n",
        "cost2 = {('MW1', 'LW1'):0.4,\n",
        "    ('MW1', 'LW2'):0.5,\n",
        "    ('MW1', 'LW3'):0.1,\n",
        "    ('MW2', 'LW1'):0.3,\n",
        "    ('MW2', 'LW2'):0.6,\n",
        "    ('MW2', 'LW3'):0.3,\n",
        "    ('MW1', 'DC1'):1.7,\n",
        "    ('MW1', 'DC2'):2.3,\n",
        "    ('MW1', 'DC3'):3.2,\n",
        "    ('MW2', 'DC1'):2.8,\n",
        "    ('MW2', 'DC2'):2.5,\n",
        "    ('MW2', 'DC3'):2.9,\n",
        "    ('LW1', 'DC1'):1000,\n",
        "    ('LW1', 'DC2'):0.6,\n",
        "    ('LW1', 'DC3'):1000,\n",
        "    ('LW2', 'DC3'):0.9,\n",
        "    ('LW2', 'DC1'):1000,\n",
        "    ('LW2', 'DC2'):1000,\n",
        "    ('LW3', 'DC1'):0.7,\n",
        "    ('LW3', 'DC2'):1000,\n",
        "    ('LW3', 'DC3'):1000,\n",
        "    ('MW1', 'LW4'):0,\n",
        "    ('MW2', 'LW4'):0,\n",
        "    ('MW1', 'LW5'):0.4,\n",
        "    ('MW2', 'LW5'):0.2,\n",
        "    ('LW4', 'DC2'):0,\n",
        "    ('LW5', 'DC3'):0.5,\n",
        "    ('LW4', 'DC1'):1000,\n",
        "    ('LW4', 'DC3'):1000,\n",
        "    ('LW5', 'DC1'):1000,\n",
        "    ('LW5', 'DC2'):1000\n",
        "    }\n",
        "\n",
        "\n",
        "cap2 = {('MW1', 'LW1'):915,\n",
        "    ('MW1', 'LW2'):800,\n",
        "    ('MW1', 'LW3'):978,\n",
        "    ('MW2', 'LW1'):776,\n",
        "    ('MW2', 'LW2'):780,\n",
        "    ('MW2', 'LW3'):898,\n",
        "    ('MW1', 'DC1'):1976,\n",
        "    ('MW1', 'DC2'):969,\n",
        "    ('MW1', 'DC3'):765,\n",
        "    ('MW2', 'DC1'):1874,\n",
        "    ('MW2', 'DC2'):699,\n",
        "    ('MW2', 'DC3'):780,\n",
        "    ('LW1', 'DC1'):0,\n",
        "    ('LW1', 'DC2'):1813,\n",
        "    ('LW1', 'DC3'):0,\n",
        "    ('LW2', 'DC1'):0,\n",
        "    ('LW2', 'DC2'):0,\n",
        "    ('LW2', 'DC3'):1768,\n",
        "    ('LW3', 'DC1'):1798,\n",
        "    ('LW3', 'DC2'):0,\n",
        "    ('LW3', 'DC3'):0,\n",
        "    ('MW1', 'LW4'):800,\n",
        "    ('MW2', 'LW4'):800,\n",
        "    ('MW1', 'LW5'):700,\n",
        "    ('MW2', 'LW5'):700,\n",
        "    ('LW4', 'DC2'):789,\n",
        "    ('LW5', 'DC3'):900,\n",
        "    ('LW4', 'DC1'):0,\n",
        "    ('LW4', 'DC3'):0,\n",
        "    ('LW5', 'DC1'):0,\n",
        "    ('LW5', 'DC2'):0}"
      ]
    },
    {
      "cell_type": "markdown",
      "id": "Xqr4-NdM-rom",
      "metadata": {
        "id": "Xqr4-NdM-rom"
      },
      "source": [
        "### Data Scenario 3"
      ]
    },
    {
      "cell_type": "code",
      "execution_count": null,
      "id": "0L3fjzUG-mdm",
      "metadata": {
        "id": "0L3fjzUG-mdm"
      },
      "outputs": [],
      "source": [
        "tmain3 = {'MW1': 2500,'MW2': 5200}\n",
        "pmain3 = {('MW1','Groceries'):2200,\n",
        "          ('MW1','Electronics'):1000,\n",
        "          ('MW2','Groceries'):3200,\n",
        "          ('MW2','Electronics'):3000}\n",
        "tlocal3 = {'LW1': 1940,'LW2': 1820, 'LW3':1900}\n",
        "plocal3 = {('LW1','Groceries'):1500,\n",
        "           ('LW1','Electronics'):600,\n",
        "           ('LW2','Groceries'):1400,\n",
        "           ('LW2','Electronics'):570,\n",
        "           ('LW3','Groceries'):1450,\n",
        "           ('LW3','Electronics'):630}\n",
        "fixedcost3 = {'MW1': 7161,'MW2': 8157,'LW1': 1125,'LW2': 1626, 'LW3': 1839}\n",
        "tdemand3 = {'DC1':3350,'DC2':1580,'DC3':1440}\n",
        "pdemand3 = {('DC1','Groceries'):1850,\n",
        "           ('DC1','Electronics'):1500,\n",
        "           ('DC2','Groceries'): 1350,\n",
        "           ('DC2','Electronics'):230,\n",
        "           ('DC3','Groceries'):1100,\n",
        "           ('DC3','Electronics'):340}\n",
        "\n",
        "\n",
        "#reorganizing the arcs\n",
        "\n",
        "\n",
        "cost3 = {('MW1', 'LW1','Groceries'):0.4,\n",
        "    ('MW1', 'LW2','Groceries'):0.5,\n",
        "    ('MW1', 'LW3','Groceries'):1000,\n",
        "    ('MW2', 'LW1','Groceries'):0.3,\n",
        "    ('MW2', 'LW2','Groceries'):0.6,\n",
        "    ('MW2', 'LW3','Groceries'):1000,\n",
        "    ('MW1', 'DC1','Groceries'):1.7,\n",
        "    ('MW1', 'DC2','Groceries'):2.3,\n",
        "    ('MW1', 'DC3','Groceries'):3.2,\n",
        "    ('MW2', 'DC1','Groceries'):2.8,\n",
        "    ('MW2', 'DC2','Groceries'):2.5,\n",
        "    ('MW2', 'DC3','Groceries'):2.9,\n",
        "    ('LW1', 'DC1','Groceries'):1000,\n",
        "    ('LW1', 'DC2','Groceries'):0.6,\n",
        "    ('LW1', 'DC3','Groceries'):1000,\n",
        "    ('LW2', 'DC3','Groceries'):0.9,\n",
        "    ('LW2', 'DC1','Groceries'):1000,\n",
        "    ('LW2', 'DC2','Groceries'):1000,\n",
        "    ('LW3', 'DC1','Groceries'):1000,\n",
        "    ('LW3', 'DC2','Groceries'):1000,\n",
        "    ('LW3', 'DC3','Groceries'):1000,\n",
        "    ('MW1', 'LW1','Electronics'):0.9,\n",
        "    ('MW1', 'LW2','Electronics'):1.0,\n",
        "    ('MW1', 'LW3','Electronics'):0.6,\n",
        "    ('MW2', 'LW1','Electronics'):0.8,\n",
        "    ('MW2', 'LW2','Electronics'):1.1,\n",
        "    ('MW2', 'LW3','Electronics'):0.8,\n",
        "    ('MW1', 'DC1','Electronics'):2.2,\n",
        "    ('MW1', 'DC2','Electronics'):2.8,\n",
        "    ('MW1', 'DC3','Electronics'):3.7,\n",
        "    ('MW2', 'DC1','Electronics'):3.3,\n",
        "    ('MW2', 'DC2','Electronics'):3.0,\n",
        "    ('MW2', 'DC3','Electronics'):3.4,\n",
        "    ('LW1', 'DC1','Electronics'):1000,\n",
        "    ('LW1', 'DC2','Electronics'):1.1,\n",
        "    ('LW1', 'DC3','Electronics'):1000,\n",
        "    ('LW2', 'DC3','Electronics'):1.4,\n",
        "    ('LW2', 'DC1','Electronics'):1000,\n",
        "    ('LW2', 'DC2','Electronics'):1000,\n",
        "    ('LW3', 'DC1','Electronics'):1.2,\n",
        "    ('LW3', 'DC2','Electronics'):1000,\n",
        "    ('LW3', 'DC3','Electronics'):1000}\n",
        "\n",
        "cap3 = {('MW1', 'LW1','Groceries'):915,  #FLOW CAPACITY..... #volume\n",
        "    ('MW1', 'LW2','Groceries'):800,\n",
        "    ('MW1', 'LW3','Groceries'):0,\n",
        "    ('MW2', 'LW1','Groceries'):776,\n",
        "    ('MW2', 'LW2','Groceries'):780,\n",
        "    ('MW2', 'LW3','Groceries'):0,\n",
        "    ('MW1', 'DC1','Groceries'):1976,\n",
        "    ('MW1', 'DC2','Groceries'):969,\n",
        "    ('MW1', 'DC3','Groceries'):765,\n",
        "    ('MW2', 'DC1','Groceries'):1874,\n",
        "    ('MW2', 'DC2','Groceries'):699,\n",
        "    ('MW2', 'DC3','Groceries'):780,\n",
        "    ('LW1', 'DC1','Groceries'):0,\n",
        "    ('LW1', 'DC2','Groceries'):1813,\n",
        "    ('LW1', 'DC3','Groceries'):0,\n",
        "    ('LW2', 'DC1','Groceries'):0,\n",
        "    ('LW2', 'DC2','Groceries'):0,\n",
        "    ('LW2', 'DC3','Groceries'):1768,\n",
        "    ('LW3', 'DC1','Groceries'):0,\n",
        "    ('LW3', 'DC2','Groceries'):0,\n",
        "    ('LW3', 'DC3','Groceries'):0,\n",
        "    ('MW1', 'LW1','Electronics'):458,\n",
        "    ('MW1', 'LW2','Electronics'):400,\n",
        "    ('MW1', 'LW3','Electronics'):489,\n",
        "    ('MW2', 'LW1','Electronics'):388,\n",
        "    ('MW2', 'LW2','Electronics'):390,\n",
        "    ('MW2', 'LW3','Electronics'):450,\n",
        "    ('MW1', 'DC1','Electronics'):0,\n",
        "    ('MW1', 'DC2','Electronics'):485,\n",
        "    ('MW1', 'DC3','Electronics'):383,\n",
        "    ('MW2', 'DC1','Electronics'):937,\n",
        "    ('MW2', 'DC2','Electronics'):350,\n",
        "    ('MW2', 'DC3','Electronics'):390,\n",
        "    ('LW1', 'DC1','Electronics'):0,\n",
        "    ('LW1', 'DC2','Electronics'):907,\n",
        "    ('LW1', 'DC3','Electronics'):0,\n",
        "    ('LW2', 'DC1','Electronics'):0,\n",
        "    ('LW2', 'DC2','Electronics'):0,\n",
        "    ('LW2', 'DC3','Electronics'):884,\n",
        "    ('LW3', 'DC1','Electronics'):899,\n",
        "    ('LW3', 'DC2','Electronics'):0,\n",
        "    ('LW3', 'DC3','Electronics'):0}"
      ]
    },
    {
      "cell_type": "markdown",
      "id": "6863ce2d-9271-45f6-ae45-9ea9bc62f601",
      "metadata": {
        "id": "6863ce2d-9271-45f6-ae45-9ea9bc62f601",
        "tags": []
      },
      "source": [
        "# 6 - Scenario 1"
      ]
    },
    {
      "cell_type": "markdown",
      "id": "3ef583b8-74e5-4d8a-baf3-344424dacbbe",
      "metadata": {
        "id": "3ef583b8-74e5-4d8a-baf3-344424dacbbe",
        "tags": []
      },
      "source": [
        "## 6.1 - Mathematical model\n",
        "\n",
        "\\begin{equation}\n",
        "\\text{Minimize} \\quad C_{1} = \\sum_{(M) \\in \\text{Main}}\\sum_{(L) \\in \\text{Local}}{\\text{Fixed cost}}+\\sum_{(M) \\in \\text{Main}}\\sum_{(L) \\in \\text{Local}}{\\text{cost}_{M,L}*\\text{Vol}_{M,L}}+\\sum_{(L) \\in \\text{Local}}\\sum_{(D) \\in \\text{Demand}}{\\text{cost}_{L,D}*\\text{Vol}_{L,D}}+\\sum_{(M) \\in \\text{Main}}\\sum_{(D) \\in \\text{Demand}}{\\text{cost}_{M,D}*\\text{Vol}_{M,D}}\n",
        "\\end{equation}\n"
      ]
    },
    {
      "cell_type": "markdown",
      "id": "2e772f26-2115-43a5-89e2-5c9a690cb3cb",
      "metadata": {
        "id": "2e772f26-2115-43a5-89e2-5c9a690cb3cb",
        "tags": []
      },
      "source": [
        "### 6.1.1 - Preliminary operations : Load packages and set the environment"
      ]
    },
    {
      "cell_type": "code",
      "execution_count": null,
      "id": "8e0f4bf6-4ea7-436c-b649-00272c12018b",
      "metadata": {
        "colab": {
          "base_uri": "https://localhost:8080/"
        },
        "id": "8e0f4bf6-4ea7-436c-b649-00272c12018b",
        "outputId": "fa03a040-e7d1-4c96-811f-2d00f60b74fb",
        "tags": []
      },
      "outputs": [
        {
          "name": "stdout",
          "output_type": "stream",
          "text": [
            "Mounted at /content/drive\n"
          ]
        }
      ],
      "source": [
        "working_in_colab = True # Set this variable equal to True if you are working in Colab, False otherwise\n",
        "\n",
        "if working_in_colab:\n",
        "    # On Colab only\n",
        "    # This needs to be done once at the start of each session.\n",
        "    !pip install -q pyomo              # Quiet installation of pyomo using pip.\n",
        "    !apt-get install -y -qq coinor-cbc # Installation of COIN-OR CBC.\n",
        "    from google.colab import drive\n",
        "    drive.mount('/content/drive', force_remount=True)   # Mount your drive"
      ]
    },
    {
      "cell_type": "code",
      "execution_count": null,
      "id": "5tC-9Kht3iuD",
      "metadata": {
        "id": "5tC-9Kht3iuD"
      },
      "outputs": [],
      "source": [
        "import pyomo.environ as pyo\n",
        "from pyomo.environ import *\n",
        "import pandas as pd\n",
        "import folium"
      ]
    },
    {
      "cell_type": "code",
      "execution_count": null,
      "id": "v6oFimxE3mhy",
      "metadata": {
        "id": "v6oFimxE3mhy"
      },
      "outputs": [],
      "source": [
        "if working_in_colab:\n",
        "    input_directory = \"/content/drive/MyDrive/Colab Notebooks 2/Managerial decision making\"\n",
        "    output_directory = \"/content/drive/MyDrive/Colab Notebooks 2/Managerial decision making\"\n",
        "    cbc_path = \"/usr/bin/cbc\"\n",
        "else:\n",
        "    input_directory = \"./Input/\"\n",
        "    output_directory = \"./Output/\"\n",
        "    cbc_path = \"C:/Program Files/Cbc/bin/cbc.exe\" "
      ]
    },
    {
      "cell_type": "markdown",
      "id": "a28bf00b-4188-474a-8bac-01cb6bd89524",
      "metadata": {
        "id": "a28bf00b-4188-474a-8bac-01cb6bd89524"
      },
      "source": [
        "### 6.1.2 - Sets"
      ]
    },
    {
      "cell_type": "code",
      "execution_count": null,
      "id": "f42502c8-108d-4750-93c4-c0ff31b2e346",
      "metadata": {
        "id": "f42502c8-108d-4750-93c4-c0ff31b2e346",
        "tags": []
      },
      "outputs": [],
      "source": [
        "model_scenario1 = pyo.ConcreteModel(name=\"SupplyNetworkDesignScenario1\")\n",
        "model_scenario1.mw = pyo.Set(initialize=main1.keys(),doc=\"Main Warehouse\")\n",
        "model_scenario1.lw = pyo.Set(initialize=local1.keys(),doc=\"Local Warehouse\")\n",
        "model_scenario1.dc = pyo.Set(initialize=demand1.keys(),doc=\"Distribution Center\")"
      ]
    },
    {
      "cell_type": "markdown",
      "id": "75643730-4845-4471-8845-496975871020",
      "metadata": {
        "id": "75643730-4845-4471-8845-496975871020"
      },
      "source": [
        "### 6.1.3 - Parameters"
      ]
    },
    {
      "cell_type": "code",
      "execution_count": null,
      "id": "2d3cb211-6dfb-470f-873e-79f241a6fb7c",
      "metadata": {
        "id": "2d3cb211-6dfb-470f-873e-79f241a6fb7c",
        "tags": []
      },
      "outputs": [],
      "source": [
        "main1 = main1\n",
        "local1 = local1\n",
        "fixedcost1 = fixedcost1\n",
        "demand1 = demand1\n",
        "cost1 = cost1\n",
        "cap1 = cap1"
      ]
    },
    {
      "cell_type": "markdown",
      "id": "900d99bb-96e2-440b-98a2-f3d23e4f229a",
      "metadata": {
        "id": "900d99bb-96e2-440b-98a2-f3d23e4f229a",
        "tags": []
      },
      "source": [
        "### 6.1.4 - Variables\n"
      ]
    },
    {
      "cell_type": "code",
      "execution_count": null,
      "id": "982286eb-e43d-4745-8218-a34ffb28f464",
      "metadata": {
        "id": "982286eb-e43d-4745-8218-a34ffb28f464",
        "tags": []
      },
      "outputs": [],
      "source": [
        "model_scenario1.x = pyo.Var(model_scenario1.mw,model_scenario1.lw,within=pyo.NonNegativeReals,doc=\"Flow from Main Warehouse to Local Warehouse\")\n",
        "model_scenario1.y = pyo.Var(model_scenario1.mw,model_scenario1.dc,within=pyo.NonNegativeReals,doc=\"Flow from Main Warehouse to Distribution Center\")\n",
        "model_scenario1.z = pyo.Var(model_scenario1.lw,model_scenario1.dc,within=pyo.NonNegativeReals,doc=\"Flow from Local Warehouse to Distribution Center\")"
      ]
    },
    {
      "cell_type": "markdown",
      "id": "a5c0e162-6479-437d-abf9-57887bc56330",
      "metadata": {
        "id": "a5c0e162-6479-437d-abf9-57887bc56330",
        "tags": []
      },
      "source": [
        "### 6.1.5 - Constraints and Objective(s)"
      ]
    },
    {
      "cell_type": "code",
      "execution_count": null,
      "id": "b17af8cd-6da1-496d-ac8b-289e045688d9",
      "metadata": {
        "id": "b17af8cd-6da1-496d-ac8b-289e045688d9",
        "tags": []
      },
      "outputs": [],
      "source": [
        "#define the model objective scenario 1\n",
        "model_scenario1.obj = pyo.Objective(expr=sum(fixedcost1[c] for c in model_scenario1.mw)+ #fixedcost for main warehouse\n",
        "                                    sum(fixedcost1[c] for c in model_scenario1.lw)+ #fixedcost for local warehouse\n",
        "                                    sum(cost1[m,l]*model_scenario1.x[m,l] for m in model_scenario1.mw for l in model_scenario1.lw)+ # total cost of transportation from main warehouse to localwarehouse\n",
        "                                    sum(cost1[m,d]*model_scenario1.y[m,d] for m in model_scenario1.mw for d in model_scenario1.dc)+ #total cost of transportation from main warehouse to distribution center\n",
        "                                    sum(cost1[l,d]*model_scenario1.z[l,d] for l in model_scenario1.lw for d in model_scenario1.dc),sense = pyo.minimize) #total cost of transportation from local warehouse to distribution center\n",
        "\n",
        "#Constraint\n",
        "\n",
        "#Main Warehouse Capacity Constraint\n",
        "#Shipments from all sources can not exceed the manufacturing capacity of the source.\n",
        "@model_scenario1.Constraint(model_scenario1.mw)\n",
        "def mw_constraint_rule(model,m):\n",
        "  return sum(model_scenario1.x[m,l] for l in model_scenario1.lw) + sum(model_scenario1.y[m,d] for d in model_scenario1.dc) <= main1[m]\n",
        "\n",
        "#Distribution Center Satisfying\n",
        "@model_scenario1.Constraint(model_scenario1.dc)\n",
        "def dc_constraint_rule(model,d):\n",
        "  return sum(model_scenario1.y[m,d] for m in model_scenario1.mw) + sum(model_scenario1.z[l,d] for l in model_scenario1.lw) >= demand1[d]\n",
        "\n",
        "#Local Warehouse Flow Conservation\n",
        "@model_scenario1.Constraint(model_scenario1.lw)\n",
        "def local_flow_rule(model,l):\n",
        "  return sum(model_scenario1.x[m,l] for m in model_scenario1.mw) == (sum(model_scenario1.z[l,d] for d in model_scenario1.dc))\n",
        "\n",
        "#Local Warehouse Capacity\n",
        "@model_scenario1.Constraint(model_scenario1.lw)\n",
        "def local_constraint_rule(model,l):\n",
        "  return sum(model_scenario1.x[m,l] for m in model_scenario1.mw) <= local1[l]\n",
        "\n",
        "#Flow Capacity Constraints Main Warehouse to Local Warehouse\n",
        "@model_scenario1.Constraint(main1.keys(),local1.keys())\n",
        "def ml_capacity_rule(model,main,local):\n",
        "  if cap1[main,local] >= 0 :\n",
        "    return model_scenario1.x[main,local] <= cap1[main,local]\n",
        "  return pyo.Constraint.Skip\n",
        "\n",
        "#Flow Capacity Constraints Main Warehouse to Distribution Center\n",
        "@model_scenario1.Constraint(main1.keys(),demand1.keys())\n",
        "def md_capacity_rule(model,main,demand):\n",
        "  if cap1[main,demand] >= 0 :\n",
        "    return model_scenario1.y[main,demand] <= cap1[main,demand]\n",
        "  return pyo.Constraint.Skip\n",
        "\n",
        "#Flow Capacity Constraints Local Warehouse to Distribution Center\n",
        "@model_scenario1.Constraint(local1.keys(),demand1.keys())\n",
        "def ld_capacity_rule(model,local,demand):\n",
        "  if cap1[local,demand] >= 0 :\n",
        "    return model_scenario1.z[local,demand] <= cap1[local,demand]\n",
        "  return pyo.Constraint.Skip"
      ]
    },
    {
      "cell_type": "markdown",
      "id": "7fbe00bb-b1f8-44d6-93fb-a9c0e5420b6e",
      "metadata": {
        "id": "7fbe00bb-b1f8-44d6-93fb-a9c0e5420b6e",
        "jp-MarkdownHeadingCollapsed": true,
        "tags": []
      },
      "source": [
        "## 6.2 - Model solution\n"
      ]
    },
    {
      "cell_type": "code",
      "execution_count": null,
      "id": "60964f84-5217-4dff-863f-43f8f6385ece",
      "metadata": {
        "colab": {
          "base_uri": "https://localhost:8080/"
        },
        "id": "60964f84-5217-4dff-863f-43f8f6385ece",
        "outputId": "336763ff-d023-4d17-d3b5-dc681a0f3c44",
        "tags": []
      },
      "outputs": [
        {
          "name": "stdout",
          "output_type": "stream",
          "text": [
            "Welcome to the CBC MILP Solver \n",
            "Version: 2.10.3 \n",
            "Build Date: Mar 24 2020 \n",
            "\n",
            "command line - /usr/bin/cbc -printingOptions all -import /tmp/tmpq6gw7p3h.pyomo.lp -stat=1 -solve -solu /tmp/tmpq6gw7p3h.pyomo.soln (default strategy 1)\n",
            "Option for printingOptions changed from normal to all\n",
            "Presolve 6 (-20) rows, 12 (-5) columns and 19 (-34) elements\n",
            "Statistics for presolved model\n",
            "\n",
            "\n",
            "Problem has 6 rows, 12 columns (12 with objective) and 19 elements\n",
            "There are 5 singletons with objective \n",
            "Column breakdown:\n",
            "1 of type 0.0->inf, 11 of type 0.0->up, 0 of type lo->inf, \n",
            "0 of type lo->up, 0 of type free, 0 of type fixed, \n",
            "0 of type -inf->0.0, 0 of type -inf->up, 0 of type 0.0->1.0 \n",
            "Row breakdown:\n",
            "2 of type E 0.0, 0 of type E 1.0, 0 of type E -1.0, \n",
            "0 of type E other, 0 of type G 0.0, 0 of type G 1.0, \n",
            "3 of type G other, 0 of type L 0.0, 0 of type L 1.0, \n",
            "1 of type L other, 0 of type Range 0.0->1.0, 0 of type Range other, \n",
            "0 of type Free \n",
            "Presolve 6 (-20) rows, 12 (-5) columns and 19 (-34) elements\n",
            "0  Obj 27808.339 Primal inf 2290.7007 (5)\n",
            "7  Obj 31258.6\n",
            "Optimal - objective value 31258.6\n",
            "After Postsolve, objective 31258.6, infeasibilities - dual 0 (0), primal 0 (0)\n",
            "Optimal objective 31258.6 - 7 iterations time 0.002, Presolve 0.00\n",
            "Total time (CPU seconds):       0.00   (Wallclock seconds):       0.00\n",
            "\n",
            "\n",
            "Optimal solution found\n",
            "\n",
            "Object function value =  <pyomo.core.base.block._generic_component_decorator object at 0x7fedb11f0bb0>\n",
            "x : Flow from Main Warehouse to Local Warehouse\n",
            "    Size=4, Index=x_index\n",
            "    Key            : Lower : Value : Upper : Fixed : Stale : Domain\n",
            "    ('MW1', 'LW1') :     0 :  37.0 :  None : False : False : NonNegativeReals\n",
            "    ('MW1', 'LW2') :     0 :   0.0 :  None : False : False : NonNegativeReals\n",
            "    ('MW2', 'LW1') :     0 : 776.0 :  None : False : False : NonNegativeReals\n",
            "    ('MW2', 'LW2') :     0 : 768.0 :  None : False : False : NonNegativeReals\n",
            "y : Flow from Main Warehouse to Distribution Center\n",
            "    Size=6, Index=y_index\n",
            "    Key            : Lower : Value  : Upper : Fixed : Stale : Domain\n",
            "    ('MW1', 'DC1') :     0 : 2395.0 :  None : False : False : NonNegativeReals\n",
            "    ('MW1', 'DC2') :     0 :   68.0 :  None : False : False : NonNegativeReals\n",
            "    ('MW1', 'DC3') :     0 :    0.0 :  None : False : False : NonNegativeReals\n",
            "    ('MW2', 'DC1') :     0 : 1605.0 :  None : False : False : NonNegativeReals\n",
            "    ('MW2', 'DC2') :     0 :  699.0 :  None : False : False : NonNegativeReals\n",
            "    ('MW2', 'DC3') :     0 :  632.0 :  None : False : False : NonNegativeReals\n",
            "z : Flow from Local Warehouse to Distribution Center\n",
            "    Size=6, Index=z_index\n",
            "    Key            : Lower : Value : Upper : Fixed : Stale : Domain\n",
            "    ('LW1', 'DC1') :     0 :   0.0 :  None : False : False : NonNegativeReals\n",
            "    ('LW1', 'DC2') :     0 : 813.0 :  None : False : False : NonNegativeReals\n",
            "    ('LW1', 'DC3') :     0 :   0.0 :  None : False : False : NonNegativeReals\n",
            "    ('LW2', 'DC1') :     0 :   0.0 :  None : False : False : NonNegativeReals\n",
            "    ('LW2', 'DC2') :     0 :   0.0 :  None : False : False : NonNegativeReals\n",
            "    ('LW2', 'DC3') :     0 : 768.0 :  None : False : False : NonNegativeReals\n"
          ]
        }
      ],
      "source": [
        "opt = pyo.SolverFactory('cbc', executable=cbc_path)\n",
        "results = opt.solve(model_scenario1, tee=True)\n",
        "\n",
        "# display solution\n",
        "\n",
        "if (results.solver.status == pyo.SolverStatus.ok) and (results.solver.termination_condition == pyo.TerminationCondition.optimal):\n",
        "    print('\\nOptimal solution found')\n",
        "elif (results.solver.termination_condition == pyo.TerminationCondition.feasible):\n",
        "    print('\\nFeasible but not proven optimal solution found')\n",
        "elif (results.solver.termination_condition == pyo.TerminationCondition.infeasible):\n",
        "    raise Exception(\"The model is infeasible\")\n",
        "else:\n",
        "    # Something else is wrong\n",
        "    print('\\nSolver Status: ',  results.solver.status)\n",
        "    raise Exception(results.solver.status)\n",
        "\n",
        "\n",
        "# display solution\n",
        "print('\\nObject function value = ', model_scenario1.Objective())\n",
        "\n",
        "#print('\\nDecision Variables')\n",
        "#for a in arcs1.keys():\n",
        "#    if model_scenario1.flow[a]() > 0:\n",
        "#        print(f\"model_scenario1.flow[{a}]: {int(model_scenario1.flow[a]()):.2f}, flow_unit_cost: {arcs1[a]['flow_unit_cost']:{0:d}}\")\n",
        "\n",
        "#print('\\nConstraints')\n",
        "model_scenario1.x.display()\n",
        "model_scenario1.y.display()\n",
        "model_scenario1.z.display()"
      ]
    },
    {
      "cell_type": "markdown",
      "id": "4343fc73-7514-4741-9d20-f191a01e823f",
      "metadata": {
        "id": "4343fc73-7514-4741-9d20-f191a01e823f",
        "tags": []
      },
      "source": [
        "## 6.3 - Analysis\n",
        "The solution is feasible so it can be applied in the real world to see how changes in demand, fixed and variable costs etc. can affect the result of the model.\n",
        "\n",
        "From the result obtained we can see derive the following findings:\n",
        "- It is better to increase the capacity of the flow from LW1 to D2, so the company uses a cheaper way to send the product since the capacity of the LW1 allows to store a higher amount of product and the transportation cost of the straight route from MW1 to D2 is more expensive.\n",
        "\n",
        "- Increase the capacity of the MW1 (rent more of the space). Now the capacity of storage does not allow to send anything from MW1 to D3 but in the other case sending products from there to D3 would be cheaper and it would allow to avoid the transportation to local warehouse first.\n",
        "\n",
        "Moreover, we observe that distribution center 1 is left without any support of the local warehouse. Considering the limited capacity of the distribution centers we may need another local warehouse serving that area because it will help ease usage of some arcs in a cheaper and more efficient way.\n",
        "\n",
        "Criticism of the result/ another strategy: a company can consider enlarging the number of distribution centers substantially and increase the capacity of its flow and operate through them directly since we see that sending product to the local warehouse first is not always cheap and effective."
      ]
    },
    {
      "cell_type": "markdown",
      "id": "sIoyOpUJ5iHx",
      "metadata": {
        "id": "sIoyOpUJ5iHx"
      },
      "source": [
        "# 7 - Scenario 2"
      ]
    },
    {
      "cell_type": "markdown",
      "id": "nTallx4550yu",
      "metadata": {
        "id": "nTallx4550yu"
      },
      "source": [
        "### 7.1 - Mathematical model\n",
        "\n",
        "\\begin{equation}\n",
        "\\text{Minimize} \\quad C_{1} = \\sum_{(M) \\in \\text{Main}}{\\text{Fixed cost}}+\\sum_{(L) \\in \\text{Local}}\\text{Fixed Cost}*\\text{x}_i+\\sum_{(M) \\in \\text{Main}}\\sum_{(L) \\in \\text{Local}}{\\text{cost}_{M,L}*\\text{Vol}_{M,L}}+\\sum_{(L) \\in \\text{Local}}\\sum_{(D) \\in \\text{Demand}}{\\text{cost}_{L,D}*\\text{Vol}_{L,D}}+\\sum_{(M) \\in \\text{Main}}\\sum_{(D) \\in \\text{Demand}}{\\text{cost}_{M,D}*\\text{Vol}_{M,D}}\n",
        "\\end{equation}"
      ]
    },
    {
      "cell_type": "markdown",
      "id": "NFv4OkCX6FpG",
      "metadata": {
        "id": "NFv4OkCX6FpG"
      },
      "source": [
        "#### 7.1.1 - Preliminary operations : Load packages and set the environment"
      ]
    },
    {
      "cell_type": "code",
      "execution_count": null,
      "id": "bC1fu2W06Q4W",
      "metadata": {
        "colab": {
          "base_uri": "https://localhost:8080/"
        },
        "id": "bC1fu2W06Q4W",
        "outputId": "ae6b967a-3269-420d-e198-8cece725a105"
      },
      "outputs": [
        {
          "name": "stdout",
          "output_type": "stream",
          "text": [
            "Mounted at /content/drive\n"
          ]
        }
      ],
      "source": [
        "working_in_colab = True # Set this variable equal to True if you are working in Colab, False otherwise\n",
        "\n",
        "if working_in_colab:\n",
        "    # On Colab only\n",
        "    # This needs to be done once at the start of each session.\n",
        "    !pip install -q pyomo              # Quiet installation of pyomo using pip.\n",
        "    !apt-get install -y -qq coinor-cbc # Installation of COIN-OR CBC.\n",
        "    from google.colab import drive\n",
        "    drive.mount('/content/drive', force_remount=True)   # Mount your drive"
      ]
    },
    {
      "cell_type": "code",
      "execution_count": null,
      "id": "MunbvBi26e0U",
      "metadata": {
        "id": "MunbvBi26e0U"
      },
      "outputs": [],
      "source": [
        "import pyomo.environ as pyo\n",
        "from pyomo.environ import *\n",
        "import pandas as pd\n",
        "import folium\n",
        "import json"
      ]
    },
    {
      "cell_type": "code",
      "execution_count": null,
      "id": "tMt0qdU56f2y",
      "metadata": {
        "id": "tMt0qdU56f2y"
      },
      "outputs": [],
      "source": [
        "if working_in_colab:\n",
        "    input_directory = \"/content/drive/MyDrive/Colab Notebooks 2/Managerial decision making\"\n",
        "    output_directory = \"/content/drive/MyDrive/Colab Notebooks 2/Managerial decision making\"\n",
        "    cbc_path = \"/usr/bin/cbc\"\n",
        "else:\n",
        "    input_directory = \"./Input/\"\n",
        "    output_directory = \"./Output/\"\n",
        "    cbc_path = \"C:/Program Files/Cbc/bin/cbc.exe\" # write the path of the cbc.exe file on your pc"
      ]
    },
    {
      "cell_type": "markdown",
      "id": "B3-LREUM6rIu",
      "metadata": {
        "id": "B3-LREUM6rIu"
      },
      "source": [
        "#### 7.1.2 - Sets"
      ]
    },
    {
      "cell_type": "code",
      "execution_count": null,
      "id": "j3AV3z486n_m",
      "metadata": {
        "id": "j3AV3z486n_m"
      },
      "outputs": [],
      "source": [
        "#define the model\n",
        "model_scenario2 = pyo.ConcreteModel(name=\"SupplyNetworkDesignScenario2\")\n",
        "model_scenario2.mw = pyo.Set(initialize=main2.keys(),doc=\"Main Warehouse\")\n",
        "model_scenario2.lw = pyo.Set(initialize=local2.keys(),doc=\"Local Warehouse\")\n",
        "model_scenario2.dc = pyo.Set(initialize=demand2.keys(),doc=\"Distribution Center\")"
      ]
    },
    {
      "cell_type": "markdown",
      "id": "ubjh4DHf8CKL",
      "metadata": {
        "id": "ubjh4DHf8CKL"
      },
      "source": [
        "#### 7.1.3 - Parameters"
      ]
    },
    {
      "cell_type": "code",
      "execution_count": null,
      "id": "aDhlHLht8GT7",
      "metadata": {
        "id": "aDhlHLht8GT7"
      },
      "outputs": [],
      "source": [
        "main2 = main2\n",
        "local2 = local2\n",
        "fixedcost2 = fixedcost2\n",
        "demand2 = demand2\n",
        "cost2 = cost2\n",
        "cap2 = cap2"
      ]
    },
    {
      "cell_type": "markdown",
      "id": "MkWCjMNp8S7L",
      "metadata": {
        "id": "MkWCjMNp8S7L"
      },
      "source": [
        "#### 7.1.4 - Variables"
      ]
    },
    {
      "cell_type": "code",
      "execution_count": null,
      "id": "qkWvs_FF8aD6",
      "metadata": {
        "id": "qkWvs_FF8aD6"
      },
      "outputs": [],
      "source": [
        "model_scenario2.x = pyo.Var(model_scenario2.mw,model_scenario2.lw,within=pyo.NonNegativeReals,doc=\"Flow from Main Warehouse to Local Warehouse\")\n",
        "model_scenario2.y = pyo.Var(model_scenario2.mw,model_scenario2.dc,within=pyo.NonNegativeReals,doc=\"Flow from Main Warehouse to Distribution Center\")\n",
        "model_scenario2.z = pyo.Var(model_scenario2.lw,model_scenario2.dc,within=pyo.NonNegativeReals,doc=\"Flow from Local Warehouse to Distribution Center\")\n",
        "model_scenario2.o = pyo.Var(model_scenario2.lw,within=pyo.Binary, doc=\"Whether to open Local Warehouse 3 or not\")\n",
        "model_scenario2.o[\"LW1\"].lb = 1\n",
        "model_scenario2.o[\"LW2\"].lb = 1"
      ]
    },
    {
      "cell_type": "markdown",
      "id": "anr7bmlf8vfI",
      "metadata": {
        "id": "anr7bmlf8vfI"
      },
      "source": [
        "#### 7.1.5 - Constraints and Objective(s)"
      ]
    },
    {
      "cell_type": "code",
      "execution_count": null,
      "id": "TumMrrTn8z-Z",
      "metadata": {
        "id": "TumMrrTn8z-Z"
      },
      "outputs": [],
      "source": [
        "# Define the model objective for scenario 1\n",
        "model_scenario2.obj = pyo.Objective(expr = sum(fixedcost2[m] for m in model_scenario2.mw)+\n",
        "                                    sum(model_scenario2.o[l] * fixedcost2[l] for l in model_scenario2.lw) +\n",
        "          sum(cost2[m,l]*model_scenario2.x[m,l] for m in model_scenario2.mw for l in model_scenario2.lw) +\n",
        "          sum(cost2[m,d]*model_scenario2.y[m,d] for m in model_scenario2.mw for d in model_scenario2.dc) +\n",
        "          sum(cost2[l,d]*model_scenario2.z[l,d] for l in model_scenario2.lw for d in model_scenario2.dc), sense = pyo.minimize)\n",
        "\n",
        "#Constraints\n",
        "\n",
        "#Main Warehouse Capacity Constraint\n",
        "#Shipments from all sources can not exceed the manufacturing capacity of the source.\n",
        "@model_scenario2.Constraint(model_scenario2.mw)\n",
        "def mw_constraint_rule(model,m):\n",
        "   return sum(model_scenario2.x[m,l] for l in model_scenario2.lw) + sum(model_scenario2.y[m,d] for d in model_scenario2.dc) <= main2[m]\n",
        "\n",
        "#Distribution Center Satisfying\n",
        "@model_scenario2.Constraint(model_scenario2.dc)\n",
        "def dc_constraint_rule(model,d):\n",
        "  return sum(model_scenario2.y[m,d] for m in model_scenario2.mw) + sum(model_scenario2.z[l,d] for l in model_scenario2.lw) >= demand2[d]\n",
        "\n",
        "#Local Warehouse Flow Conservation\n",
        "@model_scenario2.Constraint(model_scenario2.lw)\n",
        "def local_flow_rule(model,l):\n",
        "  return sum(model_scenario2.x[m,l] for m in model_scenario2.mw) == sum(model_scenario2.z[l,d] for d in model_scenario2.dc)\n",
        "\n",
        "#Local Warehouse Capacity\n",
        "@model_scenario2.Constraint(model_scenario2.lw)\n",
        "def local_constraint_rule(model,l):\n",
        "  return sum(model_scenario2.x[m,l] for m in model_scenario2.mw) <= local2[l]\n",
        "\n",
        "#Open Warehouse Constraint\n",
        "#The second set limits the product passing through the lw to be at most equal the throughput of that lw, or 0 if the lw isn't open.\n",
        "@model_scenario2.Constraint(model_scenario2.lw)\n",
        "def open_localwarehouse_rule(model,l):\n",
        "  return sum(model_scenario2.z[l,d] for d in model_scenario2.dc) <= local2[l]*model_scenario2.o[l]\n",
        "\n",
        "#Finally, there's a limit of at most 3 open local warehouses\n",
        "@model_scenario2.Constraint(model_scenario2.lw)\n",
        "def max_local_rule(model,l):\n",
        "  return sum(model_scenario2.o[l] for l in model_scenario2.lw) <= 5\n",
        "\n",
        "#Flow Capacity Constraints Main Warehouse to Local Warehouse\n",
        "@model_scenario2.Constraint(main2.keys(),local2.keys())\n",
        "def ml_capacity_rule(model,main,local):\n",
        "  if cap2[main,local] >= 0 :\n",
        "    return model_scenario2.x[main,local] <= cap2[main,local]\n",
        "  return pyo.Constraint.Skip\n",
        "\n",
        "#Flow Capacity Constraints Main Warehouse to Distribution Center\n",
        "@model_scenario2.Constraint(main2.keys(),demand2.keys())\n",
        "def md_capacity_rule(model,main,demand):\n",
        "  if cap2[main,demand] >= 0 :\n",
        "    return model_scenario2.y[main,demand] <= cap2[main,demand]\n",
        "  return pyo.Constraint.Skip\n",
        "\n",
        "#Flow Capacity Constraints Local Warehouse to Distribution Center\n",
        "@model_scenario2.Constraint(local2.keys(),demand2.keys())\n",
        "def ld_capacity_rule(model,local,demand):\n",
        "  if cap2[local,demand] >= 0 :\n",
        "    return model_scenario2.z[local,demand] <= cap2[local,demand]\n",
        "  return pyo.Constraint.Skip\n",
        "\n"
      ]
    },
    {
      "cell_type": "markdown",
      "id": "6UxfvZCJ-C8f",
      "metadata": {
        "id": "6UxfvZCJ-C8f"
      },
      "source": [
        "## 7.2 Model Solution"
      ]
    },
    {
      "cell_type": "code",
      "execution_count": null,
      "id": "yrxre8Ts-JsN",
      "metadata": {
        "colab": {
          "base_uri": "https://localhost:8080/"
        },
        "id": "yrxre8Ts-JsN",
        "outputId": "8964c85a-94f0-49d2-b8c4-85c67170e19b"
      },
      "outputs": [
        {
          "name": "stdout",
          "output_type": "stream",
          "text": [
            "Welcome to the CBC MILP Solver \n",
            "Version: 2.10.3 \n",
            "Build Date: Mar 24 2020 \n",
            "\n",
            "command line - /usr/bin/cbc -printingOptions all -import /tmp/tmp1phazp4i.pyomo.lp -stat=1 -solve -solu /tmp/tmp1phazp4i.pyomo.soln (default strategy 1)\n",
            "Option for printingOptions changed from normal to all\n",
            "Presolve 12 (-45) rows, 21 (-16) columns and 47 (-102) elements\n",
            "Statistics for presolved model\n",
            "Original problem has 3 integers (3 of which binary)\n",
            "Presolved problem has 3 integers (3 of which binary)\n",
            "==== 3 zero objective 17 different\n",
            "==== absolute objective values 17 different\n",
            "==== for integers 0 zero objective 3 different\n",
            "1 variables have objective of 600\n",
            "1 variables have objective of 800\n",
            "1 variables have objective of 3600\n",
            "==== for integers absolute objective values 3 different\n",
            "1 variables have objective of 600\n",
            "1 variables have objective of 800\n",
            "1 variables have objective of 3600\n",
            "===== end objective counts\n",
            "\n",
            "\n",
            "Problem has 12 rows, 21 columns (18 with objective) and 47 elements\n",
            "There are 3 singletons with objective \n",
            "Column breakdown:\n",
            "0 of type 0.0->inf, 18 of type 0.0->up, 0 of type lo->inf, \n",
            "0 of type lo->up, 0 of type free, 0 of type fixed, \n",
            "0 of type -inf->0.0, 0 of type -inf->up, 3 of type 0.0->1.0 \n",
            "Row breakdown:\n",
            "2 of type E 0.0, 0 of type E 1.0, 0 of type E -1.0, \n",
            "0 of type E other, 0 of type G 0.0, 0 of type G 1.0, \n",
            "3 of type G other, 3 of type L 0.0, 0 of type L 1.0, \n",
            "4 of type L other, 0 of type Range 0.0->1.0, 0 of type Range other, \n",
            "0 of type Free \n",
            "Continuous objective value is 28722.9 - 0.00 seconds\n",
            "Cgl0003I 0 fixed, 0 tightened bounds, 3 strengthened rows, 0 substitutions\n",
            "Cgl0003I 0 fixed, 0 tightened bounds, 1 strengthened rows, 0 substitutions\n",
            "Cgl0003I 0 fixed, 0 tightened bounds, 1 strengthened rows, 0 substitutions\n",
            "Cgl0004I processed model has 9 rows, 19 columns (3 integer (3 of which binary)) and 47 elements\n",
            "Cbc0038I Initial state - 1 integers unsatisfied sum - 0.2\n",
            "Cbc0038I Solution found of 28945.8\n",
            "Cbc0038I Relaxing continuous gives 28853.8\n",
            "Cbc0038I Before mini branch and bound, 2 integers at bound fixed and 13 continuous\n",
            "Cbc0038I Mini branch and bound did not improve solution (0.01 seconds)\n",
            "Cbc0038I Round again with cutoff of 28851\n",
            "Cbc0038I Pass   1: suminf.    0.01400 (1) obj. 28851 iterations 3\n",
            "Cbc0038I Pass   2: suminf.    0.17000 (1) obj. 28851 iterations 2\n",
            "Cbc0038I Pass   3: suminf.    0.17000 (1) obj. 28851 iterations 0\n",
            "Cbc0038I Pass   4: suminf.    0.68046 (2) obj. 28851 iterations 1\n",
            "Cbc0038I Pass   5: suminf.    0.68046 (2) obj. 28851 iterations 0\n",
            "Cbc0038I Pass   6: suminf.    0.68046 (2) obj. 28851 iterations 0\n",
            "Cbc0038I Pass   7: suminf.    0.68046 (2) obj. 28851 iterations 0\n",
            "Cbc0038I Pass   8: suminf.    0.68046 (2) obj. 28851 iterations 0\n",
            "Cbc0038I Pass   9: suminf.    0.95546 (2) obj. 28851 iterations 1\n",
            "Cbc0038I Pass  10: suminf.    0.06900 (1) obj. 28851 iterations 3\n",
            "Cbc0038I Pass  11: suminf.    0.44500 (1) obj. 28851 iterations 2\n",
            "Cbc0038I Pass  12: suminf.    0.44500 (1) obj. 28851 iterations 0\n",
            "Cbc0038I Pass  13: suminf.    0.44500 (1) obj. 28851 iterations 0\n",
            "Cbc0038I Pass  14: suminf.    0.44500 (1) obj. 28851 iterations 0\n",
            "Cbc0038I Pass  15: suminf.    0.17000 (1) obj. 28851 iterations 1\n",
            "Cbc0038I Pass  16: suminf.    0.17000 (1) obj. 28851 iterations 0\n",
            "Cbc0038I Pass  17: suminf.    0.95546 (2) obj. 28851 iterations 2\n",
            "Cbc0038I Pass  18: suminf.    0.68046 (2) obj. 28851 iterations 1\n",
            "Cbc0038I Pass  19: suminf.    0.95546 (2) obj. 28851 iterations 1\n",
            "Cbc0038I Pass  20: suminf.    0.95546 (2) obj. 28851 iterations 0\n",
            "Cbc0038I Pass  21: suminf.    0.95546 (2) obj. 28851 iterations 0\n",
            "Cbc0038I Pass  22: suminf.    0.95546 (2) obj. 28851 iterations 0\n",
            "Cbc0038I Pass  23: suminf.    0.95546 (2) obj. 28851 iterations 0\n",
            "Cbc0038I Pass  24: suminf.    0.95546 (2) obj. 28851 iterations 0\n",
            "Cbc0038I Pass  25: suminf.    0.95546 (2) obj. 28851 iterations 0\n",
            "Cbc0038I Pass  26: suminf.    0.95546 (2) obj. 28851 iterations 0\n",
            "Cbc0038I Pass  27: suminf.    0.95546 (2) obj. 28851 iterations 0\n",
            "Cbc0038I Pass  28: suminf.    0.68046 (2) obj. 28851 iterations 1\n",
            "Cbc0038I Pass  29: suminf.    0.68046 (2) obj. 28851 iterations 0\n",
            "Cbc0038I Pass  30: suminf.    0.68046 (2) obj. 28851 iterations 0\n",
            "Cbc0038I No solution found this major pass\n",
            "Cbc0038I Before mini branch and bound, 0 integers at bound fixed and 8 continuous\n",
            "Cbc0038I Full problem 9 rows 19 columns, reduced to 7 rows 11 columns\n",
            "Cbc0038I Mini branch and bound did not improve solution (0.01 seconds)\n",
            "Cbc0038I After 0.01 seconds - Feasibility pump exiting with objective of 28853.8 - took 0.01 seconds\n",
            "Cbc0012I Integer solution of 28853.8 found by feasibility pump after 0 iterations and 0 nodes (0.01 seconds)\n",
            "Cbc0038I Full problem 9 rows 19 columns, reduced to 5 rows 13 columns\n",
            "Cbc0031I 2 added rows had average density of 3\n",
            "Cbc0013I At root node, 5 cuts changed objective from 28825.8 to 28853.8 in 1 passes\n",
            "Cbc0014I Cut generator 0 (Probing) - 1 row cuts average 2.0 elements, 0 column cuts (0 active)  in 0.000 seconds - new frequency is 1\n",
            "Cbc0014I Cut generator 1 (Gomory) - 1 row cuts average 4.0 elements, 0 column cuts (0 active)  in 0.000 seconds - new frequency is 1\n",
            "Cbc0014I Cut generator 2 (Knapsack) - 0 row cuts average 0.0 elements, 0 column cuts (0 active)  in 0.000 seconds - new frequency is -100\n",
            "Cbc0014I Cut generator 3 (Clique) - 0 row cuts average 0.0 elements, 0 column cuts (0 active)  in 0.000 seconds - new frequency is -100\n",
            "Cbc0014I Cut generator 4 (MixedIntegerRounding2) - 1 row cuts average 2.0 elements, 0 column cuts (0 active)  in 0.000 seconds - new frequency is 1\n",
            "Cbc0014I Cut generator 5 (FlowCover) - 0 row cuts average 0.0 elements, 0 column cuts (0 active)  in 0.000 seconds - new frequency is -100\n",
            "Cbc0014I Cut generator 6 (TwoMirCuts) - 2 row cuts average 3.0 elements, 0 column cuts (0 active)  in 0.000 seconds - new frequency is -100\n",
            "Cbc0001I Search completed - best objective 28853.8, took 2 iterations and 0 nodes (0.01 seconds)\n",
            "Cbc0035I Maximum depth 0, 0 variables fixed on reduced cost\n",
            "Cuts at root node changed objective from 28825.8 to 28853.8\n",
            "Probing was tried 1 times and created 1 cuts of which 0 were active after adding rounds of cuts (0.000 seconds)\n",
            "Gomory was tried 1 times and created 1 cuts of which 0 were active after adding rounds of cuts (0.000 seconds)\n",
            "Knapsack was tried 1 times and created 0 cuts of which 0 were active after adding rounds of cuts (0.000 seconds)\n",
            "Clique was tried 1 times and created 0 cuts of which 0 were active after adding rounds of cuts (0.000 seconds)\n",
            "MixedIntegerRounding2 was tried 1 times and created 1 cuts of which 0 were active after adding rounds of cuts (0.000 seconds)\n",
            "FlowCover was tried 1 times and created 0 cuts of which 0 were active after adding rounds of cuts (0.000 seconds)\n",
            "TwoMirCuts was tried 1 times and created 2 cuts of which 0 were active after adding rounds of cuts (0.000 seconds)\n",
            "ZeroHalf was tried 1 times and created 0 cuts of which 0 were active after adding rounds of cuts (0.000 seconds)\n",
            "\n",
            "Result - Optimal solution found\n",
            "\n",
            "Objective value:                28853.80000000\n",
            "Enumerated nodes:               0\n",
            "Total iterations:               2\n",
            "Time (CPU seconds):             0.01\n",
            "Time (Wallclock seconds):       0.02\n",
            "\n",
            "Total time (CPU seconds):       0.01   (Wallclock seconds):       0.02\n",
            "\n",
            "\n",
            "Optimal solution found\n",
            "\n",
            "Object function value =  <pyomo.core.base.block._generic_component_decorator object at 0x7fedb148f400>\n",
            "x : Flow from Main Warehouse to Local Warehouse\n",
            "    Size=10, Index=x_index\n",
            "    Key            : Lower : Value : Upper : Fixed : Stale : Domain\n",
            "    ('MW1', 'LW1') :     0 : 804.0 :  None : False : False : NonNegativeReals\n",
            "    ('MW1', 'LW2') :     0 : 640.0 :  None : False : False : NonNegativeReals\n",
            "    ('MW1', 'LW3') :     0 :   0.0 :  None : False : False : NonNegativeReals\n",
            "    ('MW1', 'LW4') :     0 :   0.0 :  None : False : False : NonNegativeReals\n",
            "    ('MW1', 'LW5') :     0 : 100.0 :  None : False : False : NonNegativeReals\n",
            "    ('MW2', 'LW1') :     0 : 776.0 :  None : False : False : NonNegativeReals\n",
            "    ('MW2', 'LW2') :     0 :   0.0 :  None : False : False : NonNegativeReals\n",
            "    ('MW2', 'LW3') :     0 :   0.0 :  None : False : False : NonNegativeReals\n",
            "    ('MW2', 'LW4') :     0 :   0.0 :  None : False : False : NonNegativeReals\n",
            "    ('MW2', 'LW5') :     0 : 700.0 :  None : False : False : NonNegativeReals\n",
            "y : Flow from Main Warehouse to Distribution Center\n",
            "    Size=6, Index=y_index\n",
            "    Key            : Lower : Value  : Upper : Fixed : Stale : Domain\n",
            "    ('MW1', 'DC1') :     0 : 1976.0 :  None : False : False : NonNegativeReals\n",
            "    ('MW1', 'DC2') :     0 :    0.0 :  None : False : False : NonNegativeReals\n",
            "    ('MW1', 'DC3') :     0 :    0.0 :  None : False : False : NonNegativeReals\n",
            "    ('MW2', 'DC1') :     0 : 1374.0 :  None : False : False : NonNegativeReals\n",
            "    ('MW2', 'DC2') :     0 :    0.0 :  None : False : False : NonNegativeReals\n",
            "    ('MW2', 'DC3') :     0 :    0.0 :  None : False : False : NonNegativeReals\n",
            "z : Flow from Local Warehouse to Distribution Center\n",
            "    Size=15, Index=z_index\n",
            "    Key            : Lower : Value  : Upper : Fixed : Stale : Domain\n",
            "    ('LW1', 'DC1') :     0 :    0.0 :  None : False : False : NonNegativeReals\n",
            "    ('LW1', 'DC2') :     0 : 1580.0 :  None : False : False : NonNegativeReals\n",
            "    ('LW1', 'DC3') :     0 :    0.0 :  None : False : False : NonNegativeReals\n",
            "    ('LW2', 'DC1') :     0 :    0.0 :  None : False : False : NonNegativeReals\n",
            "    ('LW2', 'DC2') :     0 :    0.0 :  None : False : False : NonNegativeReals\n",
            "    ('LW2', 'DC3') :     0 :  640.0 :  None : False : False : NonNegativeReals\n",
            "    ('LW3', 'DC1') :     0 :    0.0 :  None : False : False : NonNegativeReals\n",
            "    ('LW3', 'DC2') :     0 :    0.0 :  None : False : False : NonNegativeReals\n",
            "    ('LW3', 'DC3') :     0 :    0.0 :  None : False : False : NonNegativeReals\n",
            "    ('LW4', 'DC1') :     0 :    0.0 :  None : False : False : NonNegativeReals\n",
            "    ('LW4', 'DC2') :     0 :    0.0 :  None : False : False : NonNegativeReals\n",
            "    ('LW4', 'DC3') :     0 :    0.0 :  None : False : False : NonNegativeReals\n",
            "    ('LW5', 'DC1') :     0 :    0.0 :  None : False : False : NonNegativeReals\n",
            "    ('LW5', 'DC2') :     0 :    0.0 :  None : False : False : NonNegativeReals\n",
            "    ('LW5', 'DC3') :     0 :  800.0 :  None : False : False : NonNegativeReals\n",
            "o : Whether to open Local Warehouse 3 or not\n",
            "    Size=5, Index=lw\n",
            "    Key : Lower : Value : Upper : Fixed : Stale : Domain\n",
            "    LW1 :     1 :   1.0 :     1 : False : False : Binary\n",
            "    LW2 :     1 :   1.0 :     1 : False : False : Binary\n",
            "    LW3 :     0 :   0.0 :     1 : False : False : Binary\n",
            "    LW4 :     0 :   0.0 :     1 : False : False : Binary\n",
            "    LW5 :     0 :   1.0 :     1 : False : False : Binary\n"
          ]
        }
      ],
      "source": [
        "opt = pyo.SolverFactory('cbc', executable=cbc_path)\n",
        "results = opt.solve(model_scenario2, tee=True)\n",
        "\n",
        "# display solution\n",
        "\n",
        "if (results.solver.status == pyo.SolverStatus.ok) and (results.solver.termination_condition == pyo.TerminationCondition.optimal):\n",
        "    print('\\nOptimal solution found')\n",
        "elif (results.solver.termination_condition == pyo.TerminationCondition.feasible):\n",
        "    print('\\nFeasible but not proven optimal solution found')\n",
        "elif (results.solver.termination_condition == pyo.TerminationCondition.infeasible):\n",
        "    raise Exception(\"The model is infeasible\")\n",
        "else:\n",
        "    # Something else is wrong\n",
        "    print('\\nSolver Status: ',  results.solver.status)\n",
        "    raise Exception(results.solver.status)\n",
        "\n",
        "\n",
        "# display solution\n",
        "print('\\nObject function value = ', model_scenario2.Objective())\n",
        "\n",
        "#print('\\nDecision Variables')\n",
        "#for a in arcs1.keys():\n",
        "#    if model_scenario1.flow[a]() > 0:\n",
        "#        print(f\"model_scenario1.flow[{a}]: {int(model_scenario1.flow[a]()):.2f}, flow_unit_cost: {arcs1[a]['flow_unit_cost']:{0:d}}\")\n",
        "\n",
        "#print('\\nConstraints')\n",
        "model_scenario2.x.display()\n",
        "model_scenario2.y.display()\n",
        "model_scenario2.z.display()\n",
        "model_scenario2.o.display()"
      ]
    },
    {
      "cell_type": "markdown",
      "id": "mWOMZdf1-Q_w",
      "metadata": {
        "id": "mWOMZdf1-Q_w"
      },
      "source": [
        "## 7.3 Analysis"
      ]
    },
    {
      "cell_type": "markdown",
      "id": "qqsG8NWH-U64",
      "metadata": {
        "id": "qqsG8NWH-U64"
      },
      "source": [
        "In scenario 2 demand for the product in the West part of the island increased, therefore there is a necessity in the new local warehouse there. So, now product flows from 2 main warehouses to 3 local warehouses and 3 distribution centers. It is needed not only to minimize the flow cost again, but to analyze whether it is worth it to have the 3rd local warehouse in the system or not.\n",
        "\n",
        "As we can see from the result, in case of the substantial increase in the demand, the opening of the new local warehouse is necessary. It adds the capacity and allows the use of a cheaper route for the transportation of the product. However, if demand remains the same as in scenario 1, the opening of the local warehouse 3 is not needed. The minimum demand at D1 for opening LW3 is 2,326 units of product. In addition, increase in the transportation cost from LW3 to D1 also leads to the closure of the LW3.\n",
        "\n",
        "Criticism of the result: the company may consider expanding the number of arcs and their capacities since it will make the full usage of node capacities possible. All in all, the solution is still feasible with current data and can be used in real life.\n"
      ]
    },
    {
      "cell_type": "markdown",
      "id": "Q8bHSfV8_edR",
      "metadata": {
        "id": "Q8bHSfV8_edR"
      },
      "source": [
        "#8 - Scenario 3"
      ]
    },
    {
      "cell_type": "markdown",
      "id": "5Tr8CvkR_723",
      "metadata": {
        "id": "5Tr8CvkR_723"
      },
      "source": [
        "## 8.1 - Mathematical model\n",
        "\n",
        "\\begin{equation}\n",
        "\\text{Minimize} \\quad C_{3} = \\sum_{(M) \\in \\text{Main}}{\\text{Fixed cost}}+\\sum_{(L) \\in \\text{Local}}\\text{Fixed Cost}*\\text{x}_i+\\sum_{(M) \\in \\text{Main}}\\sum_{(L) \\in \\text{Local}}\\sum_{(P) \\in \\text{Product}}{\\text{cost}_{M,L,P}*\\text{Vol}_{M,L,P}}+\\sum_{(L) \\in \\text{Local}}\\sum_{(D) \\in \\text{Demand}}\\sum_{(P) \\in \\text{Product}}{\\text{cost}_{L,D,P}*\\text{Vol}_{L,D}}+\\sum_{(M) \\in \\text{Main}}\\sum_{(D) \\in \\text{Demand}}\\sum_{(P) \\in \\text{Product}}{\\text{cost}_{M,D,P}*\\text{Vol}_{M,D,P}}\n",
        "\\end{equation}"
      ]
    },
    {
      "cell_type": "markdown",
      "id": "G3Qr4lcYAEzi",
      "metadata": {
        "id": "G3Qr4lcYAEzi"
      },
      "source": [
        "#### 8.1.1 - Preliminary operations : Load packages and set the environment"
      ]
    },
    {
      "cell_type": "code",
      "execution_count": null,
      "id": "EuWJpDs1AMek",
      "metadata": {
        "colab": {
          "base_uri": "https://localhost:8080/"
        },
        "id": "EuWJpDs1AMek",
        "outputId": "0a8dd380-a7a8-47d7-c5ff-0a2ec2cc9f30"
      },
      "outputs": [
        {
          "name": "stdout",
          "output_type": "stream",
          "text": [
            "Mounted at /content/drive\n"
          ]
        }
      ],
      "source": [
        "working_in_colab = True # Set this variable equal to True if you are working in Colab, False otherwise\n",
        "\n",
        "if working_in_colab:\n",
        "    # On Colab only\n",
        "    # This needs to be done once at the start of each session.\n",
        "    !pip install -q pyomo              # Quiet installation of pyomo using pip.\n",
        "    !apt-get install -y -qq coinor-cbc # Installation of COIN-OR CBC.\n",
        "    from google.colab import drive\n",
        "    drive.mount('/content/drive', force_remount=True)   # Mount your drive"
      ]
    },
    {
      "cell_type": "code",
      "execution_count": null,
      "id": "gDvC0HIuAUvl",
      "metadata": {
        "id": "gDvC0HIuAUvl"
      },
      "outputs": [],
      "source": [
        "import pyomo.environ as pyo\n",
        "from pyomo.environ import *\n",
        "import pandas as pd\n",
        "import folium\n",
        "#import json"
      ]
    },
    {
      "cell_type": "code",
      "execution_count": null,
      "id": "9yYFqqMJAdXT",
      "metadata": {
        "id": "9yYFqqMJAdXT"
      },
      "outputs": [],
      "source": [
        "if working_in_colab:\n",
        "    input_directory = \"/content/drive/MyDrive/Colab Notebooks 2/Managerial decision making\"\n",
        "    output_directory = \"/content/drive/MyDrive/Colab Notebooks 2/Managerial decision making\"\n",
        "    cbc_path = \"/usr/bin/cbc\"\n",
        "else:\n",
        "    input_directory = \"./Input/\"\n",
        "    output_directory = \"./Output/\"\n",
        "    cbc_path = \"C:/Program Files/Cbc/bin/cbc.exe\" # write the path of the cbc.exe file on your pc"
      ]
    },
    {
      "cell_type": "markdown",
      "id": "-FJCmxLmA9ol",
      "metadata": {
        "id": "-FJCmxLmA9ol"
      },
      "source": [
        "#### 8.1.2 - Sets"
      ]
    },
    {
      "cell_type": "code",
      "execution_count": null,
      "id": "l2koi7wNA8vf",
      "metadata": {
        "id": "l2koi7wNA8vf"
      },
      "outputs": [],
      "source": [
        "#define the model\n",
        "model_scenario3 = pyo.ConcreteModel(name=\"SupplyNetworkDesignScenario3\")\n",
        "\n",
        "#define the set\n",
        "model_scenario3.mw = pyo.Set(initialize=tmain3.keys(),doc=\"Main Warehouse\")\n",
        "model_scenario3.lw = pyo.Set(initialize=tlocal3.keys(),doc=\"Local Warehouse\")\n",
        "model_scenario3.dc = pyo.Set(initialize=tdemand3.keys(),doc=\"Distribution Center\")\n",
        "model_scenario3.pr = pyo.Set(initialize=['Groceries','Electronics'],doc=\"Type of Products\")"
      ]
    },
    {
      "cell_type": "markdown",
      "id": "QIo8RgoCBb9D",
      "metadata": {
        "id": "QIo8RgoCBb9D"
      },
      "source": [
        "#### 8.1.3 - Parameters"
      ]
    },
    {
      "cell_type": "code",
      "execution_count": null,
      "id": "7ql8JjjPBjhz",
      "metadata": {
        "id": "7ql8JjjPBjhz"
      },
      "outputs": [],
      "source": [
        "tmain3 = tmain3\n",
        "pmain3 = pmain3\n",
        "tlocal3 = tlocal3\n",
        "plocal3 = plocal3\n",
        "fixedcost3 = fixedcost3\n",
        "tdemand3 = tdemand3\n",
        "pdemand3 = pdemand3\n",
        "cost3 = cost3\n",
        "cap3 = cap3"
      ]
    },
    {
      "cell_type": "markdown",
      "id": "G2X_s5tdBj2i",
      "metadata": {
        "id": "G2X_s5tdBj2i"
      },
      "source": [
        "#### 8.1.4 - Variables"
      ]
    },
    {
      "cell_type": "code",
      "execution_count": null,
      "id": "O8Zx7P_eBoYF",
      "metadata": {
        "id": "O8Zx7P_eBoYF"
      },
      "outputs": [],
      "source": [
        "#define the decision variable\n",
        "model_scenario3.x = pyo.Var(model_scenario3.mw,model_scenario3.lw,model_scenario3.pr,within=pyo.NonNegativeReals,doc=\"Flow from Main Warehouse to Local Warehouse\")\n",
        "model_scenario3.y = pyo.Var(model_scenario3.mw,model_scenario3.dc,model_scenario3.pr,within=pyo.NonNegativeReals,doc=\"Flow from Main Warehouse to Distribution Center\")\n",
        "model_scenario3.z = pyo.Var(model_scenario3.lw,model_scenario3.dc,model_scenario3.pr,within=pyo.NonNegativeReals,doc=\"Flow from Local Warehouse to Distribution Center\")\n",
        "model_scenario3.o = pyo.Var(model_scenario3.lw,within=pyo.Binary, doc=\"Whether to open Local Warehouse 3 or not\")\n",
        "\n",
        "#We already open Local Warehouse 1 and local Warehouse 2\n",
        "model_scenario3.o[\"LW1\"].lb = 1\n",
        "model_scenario3.o[\"LW2\"].lb = 1"
      ]
    },
    {
      "cell_type": "markdown",
      "id": "MBtbjMn2Bwre",
      "metadata": {
        "id": "MBtbjMn2Bwre"
      },
      "source": [
        "#### 8.1.5 - Constraints and Objective(s)"
      ]
    },
    {
      "cell_type": "code",
      "execution_count": null,
      "id": "XR9FFERLB0hb",
      "metadata": {
        "id": "XR9FFERLB0hb"
      },
      "outputs": [],
      "source": [
        "# Define the model objective for scenario 1\n",
        "model_scenario3.obj = pyo.Objective(expr = sum(fixedcost3[m] for m in model_scenario3.mw)+\n",
        "                                    sum(model_scenario3.o[l] * fixedcost3[l] for l in model_scenario3.lw) +\n",
        "          sum(cost3[m,l,p]*model_scenario3.x[m,l,p] for m in model_scenario3.mw for l in model_scenario3.lw for p in model_scenario3.pr) +\n",
        "          sum(cost3[m,d,p]*model_scenario3.y[m,d,p] for m in model_scenario3.mw for d in model_scenario3.dc for p in model_scenario3.pr) +\n",
        "          sum(cost3[l,d,p]*model_scenario3.z[l,d,p] for l in model_scenario3.lw for d in model_scenario3.dc for p in model_scenario3.pr), sense = pyo.minimize)\n",
        "#Constraint\n",
        "\n",
        "#Main Warehouse Capacity Constraint\n",
        "@model_scenario3.Constraint(model_scenario3.mw,model_scenario3.pr)\n",
        "def mw_constraint_rule(model,m,p):\n",
        "   return sum(model_scenario3.x[m,l,p] for l in model_scenario3.lw) + sum(model_scenario3.y[m,d,p] for d in model_scenario3.dc) <= pmain3[m,p]\n",
        "\n",
        "#Distribution Center Satisfying\n",
        "@model_scenario3.Constraint(model_scenario3.dc, model_scenario3.pr)\n",
        "def dc_constraint_rule(model,d,p):\n",
        "  return sum(model_scenario3.y[m,d,p] for m in model_scenario3.mw) + sum(model_scenario3.z[l,d,p] for l in model_scenario3.lw) >= pdemand3[d,p]\n",
        "\n",
        "\n",
        "#Local Warehouse Flow Conservation\n",
        "@model_scenario3.Constraint(model_scenario3.lw,model_scenario3.pr)\n",
        "def local_flow_rule(model,l,p):\n",
        "  return sum(model_scenario3.x[m,l,p] for m in model_scenario3.mw) == sum(model_scenario3.z[l,d,p] for d in model_scenario3.dc)\n",
        "\n",
        "\n",
        "#Local Warehouse Capacity\n",
        "@model_scenario3.Constraint(model_scenario3.lw, model_scenario3.pr)\n",
        "def local_constraint_rule(model,l,p):\n",
        "  return sum(model_scenario3.x[m,l,p] for m in model_scenario3.mw) <= plocal3[l,p]\n",
        "\n",
        "\n",
        "#Open Warehouse Constraint\n",
        "@model_scenario3.Constraint(model_scenario3.lw)\n",
        "def open_localwarehouse_rule(model,l):\n",
        "  return sum(model_scenario3.z[l,d,p] for d in model_scenario3.dc for p in model_scenario3.pr) <= tlocal3[l]*model_scenario3.o[l]\n",
        "\n",
        "\n",
        "#Finally, there's a limit of at most 3 open depots\n",
        "@model_scenario3.Constraint(model_scenario3.lw)\n",
        "def max_local_rule(model,l):\n",
        "  return sum(model_scenario3.o[l] for l in model_scenario3.lw) <= 3\n",
        "\n",
        "\n",
        "#Flow Capacity Constraints Main Warehouse to Local Warehouse\n",
        "@model_scenario3.Constraint(tmain3.keys(),tlocal3.keys(),model_scenario3.pr)\n",
        "def ml_capacity_rule(model,main,local,product):\n",
        "  if cap3[main,local,product] >= 0 :\n",
        "    return model_scenario3.x[main,local,product] <= cap3[main,local,product]\n",
        "  return pyo.Constraint.Skip\n",
        "\n",
        "\n",
        "#Flow Capacity Constraints Main Warehouse to Distribution Center\n",
        "@model_scenario3.Constraint(tmain3.keys(),tdemand3.keys(),model_scenario3.pr)\n",
        "def md_capacity_rule(model,main,demand,product):\n",
        "  if cap3[main,demand,product] >= 0 :\n",
        "    return model_scenario3.y[main,demand,product] <= cap3[main,demand,product]\n",
        "  return pyo.Constraint.Skip\n",
        "\n",
        "\n",
        "#Flow Capacity Constraints Local Warehouse to Distribution Center\n",
        "@model_scenario3.Constraint(tlocal3.keys(),tdemand3.keys(),model_scenario3.pr)\n",
        "def ld_capacity_rule(model,local,demand,product):\n",
        "  if cap3[local,demand,product] >= 0 :\n",
        "    return model_scenario3.z[local,demand,product] <= cap3[local,demand,product]\n",
        "  return pyo.Constraint.Skip\n",
        "\n"
      ]
    },
    {
      "cell_type": "markdown",
      "id": "xE3xvcBBCBAC",
      "metadata": {
        "id": "xE3xvcBBCBAC"
      },
      "source": [
        "## 8.2 Model Solution"
      ]
    },
    {
      "cell_type": "code",
      "execution_count": null,
      "id": "BXYVwSS5CD7G",
      "metadata": {
        "colab": {
          "base_uri": "https://localhost:8080/"
        },
        "id": "BXYVwSS5CD7G",
        "outputId": "c68860c5-f1fc-471c-a3b4-ebb82352d914"
      },
      "outputs": [
        {
          "name": "stdout",
          "output_type": "stream",
          "text": [
            "Welcome to the CBC MILP Solver \n",
            "Version: 2.10.3 \n",
            "Build Date: Mar 24 2020 \n",
            "\n",
            "command line - /usr/bin/cbc -printingOptions all -import /tmp/tmpa50zv4wg.pyomo.lp -stat=1 -solve -solu /tmp/tmpa50zv4wg.pyomo.soln (default strategy 1)\n",
            "Option for printingOptions changed from normal to all\n",
            "Presolve 18 (-53) rows, 23 (-23) columns and 58 (-111) elements\n",
            "Statistics for presolved model\n",
            "Original problem has 1 integers (1 of which binary)\n",
            "Presolved problem has 1 integers (1 of which binary)\n",
            "==== 0 zero objective 21 different\n",
            "==== absolute objective values 21 different\n",
            "==== for integers 0 zero objective 1 different\n",
            "1 variables have objective of 1839\n",
            "==== for integers absolute objective values 1 different\n",
            "1 variables have objective of 1839\n",
            "===== end objective counts\n",
            "\n",
            "\n",
            "Problem has 18 rows, 23 columns (23 with objective) and 58 elements\n",
            "There are 4 singletons with objective \n",
            "Column breakdown:\n",
            "0 of type 0.0->inf, 22 of type 0.0->up, 0 of type lo->inf, \n",
            "0 of type lo->up, 0 of type free, 0 of type fixed, \n",
            "0 of type -inf->0.0, 0 of type -inf->up, 1 of type 0.0->1.0 \n",
            "Row breakdown:\n",
            "1 of type E 0.0, 0 of type E 1.0, 0 of type E -1.0, \n",
            "0 of type E other, 0 of type G 0.0, 0 of type G 1.0, \n",
            "6 of type G other, 1 of type L 0.0, 0 of type L 1.0, \n",
            "10 of type L other, 0 of type Range 0.0->1.0, 0 of type Range other, \n",
            "0 of type Free \n",
            "Continuous objective value is 30598.8 - 0.00 seconds\n",
            "Cgl0004I processed model has 17 rows, 22 columns (0 integer (0 of which binary)) and 56 elements\n",
            "Cbc3007W No integer variables - nothing to do\n",
            "Cuts at root node changed objective from 31828 to -1.79769e+308\n",
            "Probing was tried 0 times and created 0 cuts of which 0 were active after adding rounds of cuts (0.000 seconds)\n",
            "Gomory was tried 0 times and created 0 cuts of which 0 were active after adding rounds of cuts (0.000 seconds)\n",
            "Knapsack was tried 0 times and created 0 cuts of which 0 were active after adding rounds of cuts (0.000 seconds)\n",
            "Clique was tried 0 times and created 0 cuts of which 0 were active after adding rounds of cuts (0.000 seconds)\n",
            "MixedIntegerRounding2 was tried 0 times and created 0 cuts of which 0 were active after adding rounds of cuts (0.000 seconds)\n",
            "FlowCover was tried 0 times and created 0 cuts of which 0 were active after adding rounds of cuts (0.000 seconds)\n",
            "TwoMirCuts was tried 0 times and created 0 cuts of which 0 were active after adding rounds of cuts (0.000 seconds)\n",
            "ZeroHalf was tried 0 times and created 0 cuts of which 0 were active after adding rounds of cuts (0.000 seconds)\n",
            "\n",
            "Result - Optimal solution found\n",
            "\n",
            "Objective value:                31828.00000000\n",
            "Enumerated nodes:               0\n",
            "Total iterations:               0\n",
            "Time (CPU seconds):             0.00\n",
            "Time (Wallclock seconds):       0.00\n",
            "\n",
            "Total time (CPU seconds):       0.00   (Wallclock seconds):       0.01\n",
            "\n",
            "\n",
            "Optimal solution found\n",
            "\n",
            "Object function value =  <pyomo.core.base.block._generic_component_decorator object at 0x7fedb149bf70>\n",
            "x : Flow from Main Warehouse to Local Warehouse\n",
            "    Size=12, Index=x_index\n",
            "    Key                           : Lower : Value : Upper : Fixed : Stale : Domain\n",
            "    ('MW1', 'LW1', 'Electronics') :     0 :   0.0 :  None : False : False : NonNegativeReals\n",
            "      ('MW1', 'LW1', 'Groceries') :     0 : 574.0 :  None : False : False : NonNegativeReals\n",
            "    ('MW1', 'LW2', 'Electronics') :     0 : 340.0 :  None : False : False : NonNegativeReals\n",
            "      ('MW1', 'LW2', 'Groceries') :     0 : 320.0 :  None : False : False : NonNegativeReals\n",
            "    ('MW1', 'LW3', 'Electronics') :     0 : 489.0 :  None : False : False : NonNegativeReals\n",
            "      ('MW1', 'LW3', 'Groceries') :     0 :   0.0 :  None : False : False : NonNegativeReals\n",
            "    ('MW2', 'LW1', 'Electronics') :     0 : 230.0 :  None : False : False : NonNegativeReals\n",
            "      ('MW2', 'LW1', 'Groceries') :     0 : 776.0 :  None : False : False : NonNegativeReals\n",
            "    ('MW2', 'LW2', 'Electronics') :     0 :   0.0 :  None : False : False : NonNegativeReals\n",
            "      ('MW2', 'LW2', 'Groceries') :     0 : 780.0 :  None : False : False : NonNegativeReals\n",
            "    ('MW2', 'LW3', 'Electronics') :     0 : 141.0 :  None : False : False : NonNegativeReals\n",
            "      ('MW2', 'LW3', 'Groceries') :     0 :   0.0 :  None : False : False : NonNegativeReals\n",
            "y : Flow from Main Warehouse to Distribution Center\n",
            "    Size=12, Index=y_index\n",
            "    Key                           : Lower : Value  : Upper : Fixed : Stale : Domain\n",
            "    ('MW1', 'DC1', 'Electronics') :     0 :    0.0 :  None : False : False : NonNegativeReals\n",
            "      ('MW1', 'DC1', 'Groceries') :     0 : 1306.0 :  None : False : False : NonNegativeReals\n",
            "    ('MW1', 'DC2', 'Electronics') :     0 :    0.0 :  None : False : False : NonNegativeReals\n",
            "      ('MW1', 'DC2', 'Groceries') :     0 :    0.0 :  None : False : False : NonNegativeReals\n",
            "    ('MW1', 'DC3', 'Electronics') :     0 :    0.0 :  None : False : False : NonNegativeReals\n",
            "      ('MW1', 'DC3', 'Groceries') :     0 :    0.0 :  None : False : False : NonNegativeReals\n",
            "    ('MW2', 'DC1', 'Electronics') :     0 :  870.0 :  None : False : False : NonNegativeReals\n",
            "      ('MW2', 'DC1', 'Groceries') :     0 :  544.0 :  None : False : False : NonNegativeReals\n",
            "    ('MW2', 'DC2', 'Electronics') :     0 :    0.0 :  None : False : False : NonNegativeReals\n",
            "      ('MW2', 'DC2', 'Groceries') :     0 :    0.0 :  None : False : False : NonNegativeReals\n",
            "    ('MW2', 'DC3', 'Electronics') :     0 :    0.0 :  None : False : False : NonNegativeReals\n",
            "      ('MW2', 'DC3', 'Groceries') :     0 :    0.0 :  None : False : False : NonNegativeReals\n",
            "z : Flow from Local Warehouse to Distribution Center\n",
            "    Size=18, Index=z_index\n",
            "    Key                           : Lower : Value  : Upper : Fixed : Stale : Domain\n",
            "    ('LW1', 'DC1', 'Electronics') :     0 :    0.0 :  None : False : False : NonNegativeReals\n",
            "      ('LW1', 'DC1', 'Groceries') :     0 :    0.0 :  None : False : False : NonNegativeReals\n",
            "    ('LW1', 'DC2', 'Electronics') :     0 :  230.0 :  None : False : False : NonNegativeReals\n",
            "      ('LW1', 'DC2', 'Groceries') :     0 : 1350.0 :  None : False : False : NonNegativeReals\n",
            "    ('LW1', 'DC3', 'Electronics') :     0 :    0.0 :  None : False : False : NonNegativeReals\n",
            "      ('LW1', 'DC3', 'Groceries') :     0 :    0.0 :  None : False : False : NonNegativeReals\n",
            "    ('LW2', 'DC1', 'Electronics') :     0 :    0.0 :  None : False : False : NonNegativeReals\n",
            "      ('LW2', 'DC1', 'Groceries') :     0 :    0.0 :  None : False : False : NonNegativeReals\n",
            "    ('LW2', 'DC2', 'Electronics') :     0 :    0.0 :  None : False : False : NonNegativeReals\n",
            "      ('LW2', 'DC2', 'Groceries') :     0 :    0.0 :  None : False : False : NonNegativeReals\n",
            "    ('LW2', 'DC3', 'Electronics') :     0 :  340.0 :  None : False : False : NonNegativeReals\n",
            "      ('LW2', 'DC3', 'Groceries') :     0 : 1100.0 :  None : False : False : NonNegativeReals\n",
            "    ('LW3', 'DC1', 'Electronics') :     0 :  630.0 :  None : False : False : NonNegativeReals\n",
            "      ('LW3', 'DC1', 'Groceries') :     0 :    0.0 :  None : False : False : NonNegativeReals\n",
            "    ('LW3', 'DC2', 'Electronics') :     0 :    0.0 :  None : False : False : NonNegativeReals\n",
            "      ('LW3', 'DC2', 'Groceries') :     0 :    0.0 :  None : False : False : NonNegativeReals\n",
            "    ('LW3', 'DC3', 'Electronics') :     0 :    0.0 :  None : False : False : NonNegativeReals\n",
            "      ('LW3', 'DC3', 'Groceries') :     0 :    0.0 :  None : False : False : NonNegativeReals\n",
            "o : Whether to open Local Warehouse 3 or not\n",
            "    Size=3, Index=lw\n",
            "    Key : Lower : Value : Upper : Fixed : Stale : Domain\n",
            "    LW1 :     1 :   1.0 :     1 : False : False : Binary\n",
            "    LW2 :     1 :   1.0 :     1 : False : False : Binary\n",
            "    LW3 :     0 :   1.0 :     1 : False : False : Binary\n"
          ]
        }
      ],
      "source": [
        "opt = pyo.SolverFactory('cbc', executable=cbc_path)\n",
        "results = opt.solve(model_scenario3, tee=True)\n",
        "\n",
        "# display solution\n",
        "\n",
        "if (results.solver.status == pyo.SolverStatus.ok) and (results.solver.termination_condition == pyo.TerminationCondition.optimal):\n",
        "    print('\\nOptimal solution found')\n",
        "elif (results.solver.termination_condition == pyo.TerminationCondition.feasible):\n",
        "    print('\\nFeasible but not proven optimal solution found')\n",
        "elif (results.solver.termination_condition == pyo.TerminationCondition.infeasible):\n",
        "    raise Exception(\"The model is infeasible\")\n",
        "else:\n",
        "    # Something else is wrong\n",
        "    print('\\nSolver Status: ',  results.solver.status)\n",
        "    raise Exception(results.solver.status)\n",
        "\n",
        "\n",
        "# display solution\n",
        "print('\\nObject function value = ', model_scenario3.Objective())\n",
        "\n",
        "#print('\\nDecision Variables')\n",
        "#for a in arcs1.keys():\n",
        "#    if model_scenario1.flow[a]() > 0:\n",
        "#        print(f\"model_scenario1.flow[{a}]: {int(model_scenario1.flow[a]()):.2f}, flow_unit_cost: {arcs1[a]['flow_unit_cost']:{0:d}}\")\n",
        "\n",
        "#print('\\nConstraints')\n",
        "model_scenario3.x.display()\n",
        "model_scenario3.y.display()\n",
        "model_scenario3.z.display()\n",
        "model_scenario3.o.display()"
      ]
    },
    {
      "cell_type": "markdown",
      "id": "RsDf9Y8qCMA6",
      "metadata": {
        "id": "RsDf9Y8qCMA6"
      },
      "source": [
        "## 8.3 Analysis"
      ]
    },
    {
      "cell_type": "markdown",
      "id": "PhQ9kDztLj7k",
      "metadata": {
        "id": "PhQ9kDztLj7k"
      },
      "source": [
        "The management board of the JD.ID now faces the need to calculate and try to minimize the cost flow if we begin to supply 2 products instead of one to compete with the other players in the market. Main warehouses now supply the mix of 2 products: groceries and electronics. There are 3 distribution centers, 2 local warehouses and the existence of the 3rd local warehouse is to be decided. It is needed to optimize the cost flow to see if such a change can be done and the product range can be expanded while not disrupting the supply chain that already exists.\n",
        "\n",
        "Local warehouse 3 in case of scenario 3 should be opened as well (the minimum demand for its opening is 3,009 units, in case of lower figures it will not be open). We may also see that costs of transportation from the main warehouses to the local warehouse are lower, therefore these routes are used more since the logic of the solution is the following: after considering the cheapest routes and when the capacity of the local warehouse is at its limit compared to the demand, it moves to the arcs from main warehouse to the distribution center (which are more expensive but the main goal is to satisfy the demand).\n",
        "\n",
        "Solution is feasible with current figures, it is adequate and can be used in real life.\n",
        "\n",
        "Recommendations for the solution of all the scenarios:\n",
        "\n",
        "In the future research it is recommended to take into account the size of keeping units of each product, for example, SKU of electronics is twice as big as SKU groceries, and the sizes of the warehouses in square meters. This will allow to organize the space and transportation in a more precise and real way since every sm will be counted.\n",
        "\n"
      ]
    }
  ],
  "metadata": {
    "colab": {
      "collapsed_sections": [
        "zzdKyOt45RoV",
        "Dw591gdK9nFx"
      ],
      "provenance": []
    },
    "kernelspec": {
      "display_name": "Python 3 (ipykernel)",
      "language": "python",
      "name": "python3"
    },
    "language_info": {
      "codemirror_mode": {
        "name": "ipython",
        "version": 3
      },
      "file_extension": ".py",
      "mimetype": "text/x-python",
      "name": "python",
      "nbconvert_exporter": "python",
      "pygments_lexer": "ipython3",
      "version": "3.11.0"
    }
  },
  "nbformat": 4,
  "nbformat_minor": 5
}
